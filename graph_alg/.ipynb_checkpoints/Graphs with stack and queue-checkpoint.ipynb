{
 "cells": [
  {
   "cell_type": "code",
   "execution_count": 2,
   "metadata": {},
   "outputs": [],
   "source": [
    "import matr_create as m_c"
   ]
  },
  {
   "cell_type": "code",
   "execution_count": 3,
   "metadata": {},
   "outputs": [],
   "source": [
    "import my_stack as stack"
   ]
  },
  {
   "cell_type": "code",
   "execution_count": 56,
   "metadata": {},
   "outputs": [],
   "source": [
    "import my_queue as queue"
   ]
  },
  {
   "cell_type": "code",
   "execution_count": 58,
   "metadata": {},
   "outputs": [],
   "source": [
    "import random as rd"
   ]
  },
  {
   "cell_type": "code",
   "execution_count": 11,
   "metadata": {},
   "outputs": [],
   "source": [
    "from importlib import reload"
   ]
  },
  {
   "cell_type": "code",
   "execution_count": 46,
   "metadata": {},
   "outputs": [
    {
     "data": {
      "text/plain": [
       "<module 'matr_create' from 'C:\\\\Users\\\\igors\\\\My_Code\\\\PyHomework\\\\matr_create.py'>"
      ]
     },
     "execution_count": 46,
     "metadata": {},
     "output_type": "execute_result"
    }
   ],
   "source": [
    "reload(m_c)"
   ]
  },
  {
   "cell_type": "markdown",
   "metadata": {},
   "source": [
    "# Задание матрицы смежности"
   ]
  },
  {
   "cell_type": "markdown",
   "metadata": {},
   "source": [
    "Задание матрицы связности с помощью функции create_sym_matr из модуля matr_create (импортирован как m_c). Функция принимает на фход следующие аргументы:\n",
    " - размерность\n",
    " - значение, обозначающее отсутствие связи между узлами графа\n",
    " - \"зерно\" для генерации случайных чисел\n",
    " - режим (указывает на связность или несвязность графа; для несвязного графа отдельные \"маршруты\" мслучайным образом указаны как несуществующие)"
   ]
  },
  {
   "cell_type": "code",
   "execution_count": 119,
   "metadata": {},
   "outputs": [
    {
     "name": "stdout",
     "output_type": "stream",
     "text": [
      "seed 3243\n"
     ]
    }
   ],
   "source": [
    "seed = rd.randint(0, 10000)\n",
    "print(\"seed {}\".format(seed))\n",
    "graph10 = m_c.create_sym_matr(10, None, rd_seed=seed, discon_graph_matr=True)\n",
    "graph15 = m_c.create_sym_matr(15, None, rd_seed=seed, discon_graph_matr=True)"
   ]
  },
  {
   "cell_type": "code",
   "execution_count": 120,
   "metadata": {},
   "outputs": [
    {
     "data": {
      "text/plain": [
       "[[None, None, 3, 1, None, 7, None, 9, 5, None],\n",
       " [None, None, None, None, 5, 6, 10, 8, None, 4],\n",
       " [3, None, None, 8, 6, 4, None, None, None, 9],\n",
       " [1, None, 8, None, 8, None, 7, 3, None, 1],\n",
       " [None, 5, 6, 8, None, None, 6, None, 2, None],\n",
       " [7, 6, 4, None, None, None, None, 2, None, 8],\n",
       " [None, 10, None, 7, 6, None, None, 1, 3, 8],\n",
       " [9, 8, None, 3, None, 2, 1, None, None, None],\n",
       " [5, None, None, None, 2, None, 3, None, None, 1],\n",
       " [None, 4, 9, 1, None, 8, 8, None, 1, None]]"
      ]
     },
     "execution_count": 120,
     "metadata": {},
     "output_type": "execute_result"
    }
   ],
   "source": [
    "graph10"
   ]
  },
  {
   "cell_type": "code",
   "execution_count": 121,
   "metadata": {},
   "outputs": [
    {
     "data": {
      "text/plain": [
       "[[None, None, 3, 1, None, 7, None, 9, 5, None, None, None, 5, 6, 10],\n",
       " [None, None, 8, None, 4, 8, 6, 4, None, None, None, 9, 8, None, 7],\n",
       " [3, 8, None, 3, None, 1, None, 6, None, 2, None, None, 2, None, 8],\n",
       " [1, None, 3, None, 1, 3, 8, None, None, 1, 7, None, None, None, None],\n",
       " [None, 4, None, 1, None, None, 4, 2, None, 3, None, 2, 7, 2, None],\n",
       " [7, 8, 1, 3, None, None, 7, None, 5, 4, None, 5, None, 3, 2],\n",
       " [None, 6, None, 8, 4, 7, None, 3, None, None, 10, None, 2, 5, None],\n",
       " [9, 4, 6, None, 2, None, 3, None, None, 10, None, None, 7, 9, None],\n",
       " [5, None, None, None, None, 5, None, None, None, None, 9, None, None, 2, 3],\n",
       " [None, None, 2, 1, 3, 4, None, 10, None, None, None, None, 9, 3, None],\n",
       " [None, None, None, 7, None, None, 10, None, 9, None, None, 10, 1, 5, None],\n",
       " [None, 9, None, None, 2, 5, None, None, None, None, 10, None, 8, 9, None],\n",
       " [5, 8, 2, None, 7, None, 2, 7, None, 9, 1, 8, None, None, 1],\n",
       " [6, None, None, None, 2, 3, 5, 9, 2, 3, 5, 9, None, None, 6],\n",
       " [10, 7, 8, None, None, 2, None, None, 3, None, None, None, 1, 6, None]]"
      ]
     },
     "execution_count": 121,
     "metadata": {},
     "output_type": "execute_result"
    }
   ],
   "source": [
    "graph15"
   ]
  },
  {
   "cell_type": "markdown",
   "metadata": {},
   "source": [
    "# Обход графа:"
   ]
  },
  {
   "cell_type": "markdown",
   "metadata": {},
   "source": [
    "## 1) в ширину с использованием очереди"
   ]
  },
  {
   "cell_type": "code",
   "execution_count": 122,
   "metadata": {},
   "outputs": [],
   "source": [
    "def bf_walk(start, graph): #обход в ширину\n",
    "    neighbours = len(graph)\n",
    "    visited_neighbours = set()\n",
    "    q = queue.Queue()\n",
    "    q.push(start)\n",
    "    while q.count:\n",
    "        elem = q.pop()\n",
    "        visited_neighbours.add(elem)\n",
    "        for neighbour in range(0, neighbours):\n",
    "            if graph[elem][neighbour]:\n",
    "                if neighbour not in visited_neighbours:\n",
    "                    q.push(neighbour)\n",
    "                    visited_neighbours.add(neighbour)\n",
    "        print(\"current node: {}, neighbours: {}\".format(elem, q.pool))"
   ]
  },
  {
   "cell_type": "code",
   "execution_count": 123,
   "metadata": {},
   "outputs": [
    {
     "name": "stdout",
     "output_type": "stream",
     "text": [
      "current node: 1, neighbours: deque([4, 5, 6, 7, 9])\n",
      "current node: 4, neighbours: deque([5, 6, 7, 9, 2, 3, 8])\n",
      "current node: 5, neighbours: deque([6, 7, 9, 2, 3, 8, 0])\n",
      "current node: 6, neighbours: deque([7, 9, 2, 3, 8, 0])\n",
      "current node: 7, neighbours: deque([9, 2, 3, 8, 0])\n",
      "current node: 9, neighbours: deque([2, 3, 8, 0])\n",
      "current node: 2, neighbours: deque([3, 8, 0])\n",
      "current node: 3, neighbours: deque([8, 0])\n",
      "current node: 8, neighbours: deque([0])\n",
      "current node: 0, neighbours: deque([])\n"
     ]
    }
   ],
   "source": [
    "bf_walk(1, graph10)"
   ]
  },
  {
   "cell_type": "code",
   "execution_count": 124,
   "metadata": {},
   "outputs": [
    {
     "name": "stdout",
     "output_type": "stream",
     "text": [
      "current node: 1, neighbours: deque([2, 4, 5, 6, 7, 11, 12, 14])\n",
      "current node: 2, neighbours: deque([4, 5, 6, 7, 11, 12, 14, 0, 3, 9])\n",
      "current node: 4, neighbours: deque([5, 6, 7, 11, 12, 14, 0, 3, 9, 13])\n",
      "current node: 5, neighbours: deque([6, 7, 11, 12, 14, 0, 3, 9, 13, 8])\n",
      "current node: 6, neighbours: deque([7, 11, 12, 14, 0, 3, 9, 13, 8, 10])\n",
      "current node: 7, neighbours: deque([11, 12, 14, 0, 3, 9, 13, 8, 10])\n",
      "current node: 11, neighbours: deque([12, 14, 0, 3, 9, 13, 8, 10])\n",
      "current node: 12, neighbours: deque([14, 0, 3, 9, 13, 8, 10])\n",
      "current node: 14, neighbours: deque([0, 3, 9, 13, 8, 10])\n",
      "current node: 0, neighbours: deque([3, 9, 13, 8, 10])\n",
      "current node: 3, neighbours: deque([9, 13, 8, 10])\n",
      "current node: 9, neighbours: deque([13, 8, 10])\n",
      "current node: 13, neighbours: deque([8, 10])\n",
      "current node: 8, neighbours: deque([10])\n",
      "current node: 10, neighbours: deque([])\n"
     ]
    }
   ],
   "source": [
    "bf_walk(1, graph15)"
   ]
  },
  {
   "cell_type": "markdown",
   "metadata": {},
   "source": [
    "## 2) в глубину с использованием стека"
   ]
  },
  {
   "cell_type": "code",
   "execution_count": 125,
   "metadata": {},
   "outputs": [],
   "source": [
    "def df_walk(start, graph): #обход в глубину\n",
    "    neighbours = len(graph)\n",
    "    visited_neighbours = set()\n",
    "    s = stack.Stack()\n",
    "    s.push(start)\n",
    "    while s.count:#len(visited_neighbours) < neighbours:\n",
    "        elem = s.pop()\n",
    "        visited_neighbours.add(elem)\n",
    "        for neighbour in range(0, neighbours):\n",
    "            if graph[elem][neighbour]:\n",
    "                if neighbour not in visited_neighbours:\n",
    "                    s.push(neighbour)\n",
    "                    visited_neighbours.add(neighbour)\n",
    "        print(\"current node: {}, neighbours: {}\".format(elem, s.pool))   "
   ]
  },
  {
   "cell_type": "code",
   "execution_count": 126,
   "metadata": {},
   "outputs": [
    {
     "name": "stdout",
     "output_type": "stream",
     "text": [
      "current node: 1, neighbours: [4, 5, 6, 7, 9]\n",
      "current node: 9, neighbours: [4, 5, 6, 7, 2, 3, 8]\n",
      "current node: 8, neighbours: [4, 5, 6, 7, 2, 3, 0]\n",
      "current node: 0, neighbours: [4, 5, 6, 7, 2, 3]\n",
      "current node: 3, neighbours: [4, 5, 6, 7, 2]\n",
      "current node: 2, neighbours: [4, 5, 6, 7]\n",
      "current node: 7, neighbours: [4, 5, 6]\n",
      "current node: 6, neighbours: [4, 5]\n",
      "current node: 5, neighbours: [4]\n",
      "current node: 4, neighbours: []\n"
     ]
    }
   ],
   "source": [
    "df_walk(1, graph10)"
   ]
  },
  {
   "cell_type": "code",
   "execution_count": 127,
   "metadata": {},
   "outputs": [
    {
     "name": "stdout",
     "output_type": "stream",
     "text": [
      "current node: 1, neighbours: [2, 4, 5, 6, 7, 11, 12, 14]\n",
      "current node: 14, neighbours: [2, 4, 5, 6, 7, 11, 12, 0, 8, 13]\n",
      "current node: 13, neighbours: [2, 4, 5, 6, 7, 11, 12, 0, 8, 9, 10]\n",
      "current node: 10, neighbours: [2, 4, 5, 6, 7, 11, 12, 0, 8, 9, 3]\n",
      "current node: 3, neighbours: [2, 4, 5, 6, 7, 11, 12, 0, 8, 9]\n",
      "current node: 9, neighbours: [2, 4, 5, 6, 7, 11, 12, 0, 8]\n",
      "current node: 8, neighbours: [2, 4, 5, 6, 7, 11, 12, 0]\n",
      "current node: 0, neighbours: [2, 4, 5, 6, 7, 11, 12]\n",
      "current node: 12, neighbours: [2, 4, 5, 6, 7, 11]\n",
      "current node: 11, neighbours: [2, 4, 5, 6, 7]\n",
      "current node: 7, neighbours: [2, 4, 5, 6]\n",
      "current node: 6, neighbours: [2, 4, 5]\n",
      "current node: 5, neighbours: [2, 4]\n",
      "current node: 4, neighbours: [2]\n",
      "current node: 2, neighbours: []\n"
     ]
    }
   ],
   "source": [
    "df_walk(1, graph15)"
   ]
  },
  {
   "cell_type": "code",
   "execution_count": null,
   "metadata": {},
   "outputs": [],
   "source": []
  }
 ],
 "metadata": {
  "kernelspec": {
   "display_name": "Python 3",
   "language": "python",
   "name": "python3"
  },
  "language_info": {
   "codemirror_mode": {
    "name": "ipython",
    "version": 3
   },
   "file_extension": ".py",
   "mimetype": "text/x-python",
   "name": "python",
   "nbconvert_exporter": "python",
   "pygments_lexer": "ipython3",
   "version": "3.7.4"
  }
 },
 "nbformat": 4,
 "nbformat_minor": 2
}
