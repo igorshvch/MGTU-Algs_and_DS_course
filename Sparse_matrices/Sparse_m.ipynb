{
 "cells": [
  {
   "cell_type": "code",
   "execution_count": 1,
   "metadata": {},
   "outputs": [],
   "source": [
    "import matr_create as m_c"
   ]
  },
  {
   "cell_type": "code",
   "execution_count": 2,
   "metadata": {},
   "outputs": [],
   "source": [
    "from importlib import reload"
   ]
  },
  {
   "cell_type": "code",
   "execution_count": 7,
   "metadata": {},
   "outputs": [],
   "source": [
    "import sparse_crs as scr"
   ]
  },
  {
   "cell_type": "markdown",
   "metadata": {},
   "source": [
    "# Тесты с разреженным строчным форматом\n",
    "Для тестирования использовалась функция создания разреженных матриц create_matrix_with_sparse_vals() из модуля matr_create (имтортирован под именем m_c). Функция заполняет разреженную матрицы случайными числами и принимает в качестве аргументов:\n",
    " - число строк\n",
    " - число столбцов\n",
    " - модуль границ диапазона случайных значений (9 => \\[-9; 9\\])\n",
    " - процент заполнения (фактическое число элементов округляется)\n",
    " - \"зерно\" для генерации случаных значений\n",
    "## Упаковка, распаковка"
   ]
  },
  {
   "cell_type": "code",
   "execution_count": 8,
   "metadata": {},
   "outputs": [
    {
     "data": {
      "text/plain": [
       "<module 'sparse_crs' from 'C:\\\\Users\\\\igors\\\\My_Code\\\\PyHomework\\\\Sparse_matrices\\\\sparse_crs.py'>"
      ]
     },
     "execution_count": 8,
     "metadata": {},
     "output_type": "execute_result"
    }
   ],
   "source": [
    "reload(scr)"
   ]
  },
  {
   "cell_type": "code",
   "execution_count": 9,
   "metadata": {},
   "outputs": [
    {
     "name": "stdout",
     "output_type": "stream",
     "text": [
      "seed: 3949\n",
      "[\n",
      "\t [0, 0, 0, 0, 0]\n",
      "\t [0, 0, 0, 9, 0]\n",
      "\t [0, 0, -4, 2, 0]\n",
      "\t [0, 3, 0, 0, 0]\n",
      "\t [0, 0, 0, 0, 5]\n",
      "]\n",
      "================================\n",
      "AN: [9, -4, 2, 3, 5]\n",
      "JA: [3, 2, 3, 1, 4]\n",
      "JR: [0, 0, 1, 3, 4, 5]\n",
      "cols 5\n",
      "================================\n",
      "i: 1, j: 0, self.JR[i]: 0, self.JR[i+1]: 1\n",
      "i: 2, j: 1, self.JR[i]: 1, self.JR[i+1]: 3\n",
      "i: 2, j: 2, self.JR[i]: 1, self.JR[i+1]: 3\n",
      "i: 3, j: 3, self.JR[i]: 3, self.JR[i+1]: 4\n",
      "i: 4, j: 4, self.JR[i]: 4, self.JR[i+1]: 5\n",
      "[\n",
      "\t [0, 0, 0, 0, 0]\n",
      "\t [0, 0, 0, 9, 0]\n",
      "\t [0, 0, -4, 2, 0]\n",
      "\t [0, 3, 0, 0, 0]\n",
      "\t [0, 0, 0, 0, 5]\n",
      "]\n"
     ]
    },
    {
     "data": {
      "text/plain": [
       "[[0, 0, 0, 0, 0],\n",
       " [0, 0, 0, 9, 0],\n",
       " [0, 0, -4, 2, 0],\n",
       " [0, 3, 0, 0, 0],\n",
       " [0, 0, 0, 0, 5]]"
      ]
     },
     "execution_count": 9,
     "metadata": {},
     "output_type": "execute_result"
    }
   ],
   "source": [
    "SM_src_test = scr.SparceCRS()\n",
    "\n",
    "seed1 = m_c.random.randint(0, 10000)\n",
    "print(\"seed: {}\".format(seed1))\n",
    "\n",
    "rows = 5\n",
    "cols = 5\n",
    "\n",
    "M1 = m_c.create_matrix_with_sparse_vals(rows,cols,9, 0.2, rd_seed=seed1)\n",
    "print(\"=\"*32)\n",
    "\n",
    "SM_src_test.pack(M1)\n",
    "SM_src_test.print_info()\n",
    "print(\"=\"*32)\n",
    "SM_src_test.unpack(verbose=True)"
   ]
  },
  {
   "cell_type": "markdown",
   "metadata": {},
   "source": [
    "## Сложение"
   ]
  },
  {
   "cell_type": "code",
   "execution_count": 10,
   "metadata": {},
   "outputs": [
    {
     "data": {
      "text/plain": [
       "<module 'sparse_crs' from 'C:\\\\Users\\\\igors\\\\My_Code\\\\PyHomework\\\\Sparse_matrices\\\\sparse_crs.py'>"
      ]
     },
     "execution_count": 10,
     "metadata": {},
     "output_type": "execute_result"
    }
   ],
   "source": [
    "reload(scr)"
   ]
  },
  {
   "cell_type": "code",
   "execution_count": 12,
   "metadata": {},
   "outputs": [
    {
     "name": "stdout",
     "output_type": "stream",
     "text": [
      "seeds: 5085, 291\n",
      "[\n",
      "\t [0, 3, 0, 0, 0]\n",
      "\t [0, 0, 0, 0, 0]\n",
      "\t [0, 6, -4, 0, 0]\n",
      "\t [0, 0, 0, 4, 9]\n",
      "\t [0, 0, 0, 0, 0]\n",
      "]\n",
      "AN: [3, 6, -4, 4, 9]\n",
      "JA: [1, 1, 2, 3, 4]\n",
      "JR: [0, 1, 1, 3, 5, 5]\n",
      "cols 5\n",
      "================================\n",
      "[\n",
      "\t [6, 0, -7, 0, 0]\n",
      "\t [0, 0, 9, 0, 0]\n",
      "\t [0, 0, 0, 0, 4]\n",
      "\t [0, 0, -3, 0, 0]\n",
      "\t [0, 0, 0, 0, 0]\n",
      "]\n",
      "AN: [6, -7, 9, 4, -3]\n",
      "JA: [0, 2, 2, 4, 2]\n",
      "JR: [0, 2, 3, 4, 5, 5]\n",
      "cols 5\n",
      "================================\n",
      "RESULT\n",
      "[\n",
      "\t [6, 3, -7, 0, 0]\n",
      "\t [0, 0, 9, 0, 0]\n",
      "\t [0, 6, -4, 0, 4]\n",
      "\t [0, 0, -3, 4, 9]\n",
      "\t [0, 0, 0, 0, 0]\n",
      "]\n",
      "AN: [6, 3, -7, 9, 6, -4, 4, -3, 4, 9]\n",
      "JA: [0, 1, 2, 2, 1, 2, 4, 2, 3, 4]\n",
      "JR: [0, 3, 4, 7, 10, 10]\n",
      "cols 5\n",
      "================================\n",
      "[\n",
      "\t [6, 3, -7, 0, 0]\n",
      "\t [0, 0, 9, 0, 0]\n",
      "\t [0, 6, -4, 0, 4]\n",
      "\t [0, 0, -3, 4, 9]\n",
      "\t [0, 0, 0, 0, 0]\n",
      "]\n",
      "AN: [6, 3, -7, 9, 6, -4, 4, -3, 4, 9]\n",
      "JA: [0, 1, 2, 2, 1, 2, 4, 2, 3, 4]\n",
      "JR: [0, 3, 4, 7, 10, 10]\n",
      "cols 5\n",
      "================================\n",
      "Tests:\n",
      "dense equality: True\n",
      "sparse equality: True True True True\n",
      "\n"
     ]
    }
   ],
   "source": [
    "SM_src_test_1 = scr.SparceCRS()\n",
    "SM_src_test_2 = scr.SparceCRS()\n",
    "SM_src_test_3 = scr.SparceCRS()\n",
    "\n",
    "seed1 = m_c.random.randint(0, 10000)\n",
    "seed2 = m_c.random.randint(0, 10000)\n",
    "print(\"seeds: {}, {}\".format(seed1, seed2))\n",
    "\n",
    "rows = 5\n",
    "cols = 5\n",
    "\n",
    "M1 = m_c.create_matrix_with_sparse_vals(rows,cols,9, 0.2, rd_seed=seed1)\n",
    "SM_src_test_1.pack(M1)\n",
    "SM_src_test_1.print_info()\n",
    "print(\"=\"*32)\n",
    "M2 = m_c.create_matrix_with_sparse_vals(rows,cols,9, 0.2, rd_seed=seed2)\n",
    "SM_src_test_2.pack(M2)\n",
    "SM_src_test_2.print_info()\n",
    "print(\"=\"*32)\n",
    "print(\"RESULT\")\n",
    "M3 = m_c.simple_sum(M1, M2)\n",
    "SM_src_test_3.pack(M3)\n",
    "SM_src_test_3.print_info()\n",
    "print(\"=\"*32)\n",
    "\n",
    "res_matrix = SM_src_test_1.addition(SM_src_test_2)\n",
    "m_c.sym_matrix_print(res_matrix.unpack(), rows)\n",
    "res_matrix.print_info()\n",
    "\n",
    "print(\"=\"*32)\n",
    "print(\"Tests:\")\n",
    "print(\"dense equality:\", M3 == res_matrix.unpack())\n",
    "print(\n",
    "    \"sparse equality:\",\n",
    "    SM_src_test_3.AN == res_matrix.AN,\n",
    "    SM_src_test_3.JA == res_matrix.JA,\n",
    "    SM_src_test_3.JR == res_matrix.JR,\n",
    "    SM_src_test_3.cols == res_matrix.cols\n",
    ")\n",
    "print()"
   ]
  },
  {
   "cell_type": "markdown",
   "metadata": {},
   "source": [
    "## Умножения"
   ]
  },
  {
   "cell_type": "code",
   "execution_count": 13,
   "metadata": {},
   "outputs": [
    {
     "data": {
      "text/plain": [
       "<module 'sparse_crs' from 'C:\\\\Users\\\\igors\\\\My_Code\\\\PyHomework\\\\Sparse_matrices\\\\sparse_crs.py'>"
      ]
     },
     "execution_count": 13,
     "metadata": {},
     "output_type": "execute_result"
    }
   ],
   "source": [
    "reload(scr)"
   ]
  },
  {
   "cell_type": "code",
   "execution_count": 14,
   "metadata": {},
   "outputs": [
    {
     "name": "stdout",
     "output_type": "stream",
     "text": [
      "seeds: 3357, 4242\n",
      "[\n",
      "\t [0, 4, 0, 8]\n",
      "\t [0, 0, 0, 0]\n",
      "\t [0, 0, 0, 0]\n",
      "\t [0, 0, 0, 0]\n",
      "\t [4, 3, 0, 0]\n",
      "]\n",
      "AN: [4, 8, 4, 3]\n",
      "JA: [1, 3, 0, 1]\n",
      "JR: [0, 2, 2, 2, 2, 4]\n",
      "cols 4\n",
      "================================\n",
      "[\n",
      "\t [0, -5, 0, 3, 0, 0]\n",
      "\t [0, -4, 0, 0, 0, 0]\n",
      "\t [0, 0, 9, 6, 0, 0]\n",
      "\t [0, 0, 0, 0, 0, 0]\n",
      "]\n",
      "AN: [-5, 3, -4, 9, 6]\n",
      "JA: [1, 3, 1, 2, 3]\n",
      "JR: [0, 2, 3, 5, 5]\n",
      "cols 6\n",
      "================================\n",
      "RESULT\n",
      "[\n",
      "\t [0, -16, 0, 0, 0, 0]\n",
      "\t [0, 0, 0, 0, 0, 0]\n",
      "\t [0, 0, 0, 0, 0, 0]\n",
      "\t [0, 0, 0, 0, 0, 0]\n",
      "\t [0, -32, 0, 12, 0, 0]\n",
      "]\n",
      "AN: [-16, -32, 12]\n",
      "JA: [1, 1, 3]\n",
      "JR: [0, 1, 1, 1, 1, 3]\n",
      "cols 6\n",
      "================================\n",
      "[\n",
      "\t [0, -16, 0, 0, 0, 0]\n",
      "\t [0, 0, 0, 0, 0, 0]\n",
      "\t [0, 0, 0, 0, 0, 0]\n",
      "\t [0, 0, 0, 0, 0, 0]\n",
      "\t [0, -32, 0, 12, 0, 0]\n",
      "]\n",
      "AN: [-16, -32, 12]\n",
      "JA: [1, 1, 3]\n",
      "JR: [0, 1, 1, 1, 1, 3]\n",
      "cols 6\n",
      "================================\n",
      "Tests:\n",
      "dense equality: True\n",
      "sparse equality: True True True True\n",
      "\n"
     ]
    }
   ],
   "source": [
    "SM_src_test_1 = scr.SparceCRS()\n",
    "SM_src_test_2 = scr.SparceCRS()\n",
    "SM_src_test_3 = scr.SparceCRS()\n",
    "\n",
    "seed1 = m_c.random.randint(0, 10000)\n",
    "seed2 = m_c.random.randint(0, 10000)\n",
    "print(\"seeds: {}, {}\".format(seed1, seed2))\n",
    "\n",
    "rows1 = 5\n",
    "cols1 = rows2 = 4\n",
    "cols2 = 6\n",
    "\n",
    "\n",
    "M1 = m_c.create_matrix_with_sparse_vals(rows1,cols1,9, 0.2, rd_seed=seed1)\n",
    "SM_src_test_1.pack(M1)\n",
    "SM_src_test_1.print_info()\n",
    "print(\"=\"*32)\n",
    "M2 = m_c.create_matrix_with_sparse_vals(rows2,cols2,9, 0.2, rd_seed=seed2)\n",
    "SM_src_test_2.pack(M2)\n",
    "SM_src_test_2.print_info()\n",
    "print(\"=\"*32)\n",
    "print(\"RESULT\")\n",
    "M3 = m_c.simple_mult(M1, M2)\n",
    "SM_src_test_3.pack(M3)\n",
    "SM_src_test_3.print_info()\n",
    "print(\"=\"*32)\n",
    "\n",
    "res_matrix = SM_src_test_1.multiplication(SM_src_test_2)\n",
    "m_c.sym_matrix_print(res_matrix.unpack(), rows)\n",
    "res_matrix.print_info()\n",
    "\n",
    "print(\"=\"*32)\n",
    "print(\"Tests:\")\n",
    "print(\"dense equality:\", M3 == res_matrix.unpack())\n",
    "print(\n",
    "    \"sparse equality:\",\n",
    "    SM_src_test_3.AN == res_matrix.AN,\n",
    "    SM_src_test_3.JA == res_matrix.JA,\n",
    "    SM_src_test_3.JR == res_matrix.JR,\n",
    "    SM_src_test_3.cols == res_matrix.cols\n",
    ")\n",
    "print()"
   ]
  },
  {
   "cell_type": "code",
   "execution_count": null,
   "metadata": {},
   "outputs": [],
   "source": []
  }
 ],
 "metadata": {
  "kernelspec": {
   "display_name": "Python 3",
   "language": "python",
   "name": "python3"
  },
  "language_info": {
   "codemirror_mode": {
    "name": "ipython",
    "version": 3
   },
   "file_extension": ".py",
   "mimetype": "text/x-python",
   "name": "python",
   "nbconvert_exporter": "python",
   "pygments_lexer": "ipython3",
   "version": "3.7.4"
  }
 },
 "nbformat": 4,
 "nbformat_minor": 2
}
