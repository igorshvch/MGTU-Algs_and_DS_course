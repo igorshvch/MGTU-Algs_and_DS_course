{
 "cells": [
  {
   "cell_type": "code",
   "execution_count": 1,
   "metadata": {},
   "outputs": [],
   "source": [
    "import matr_create as m_c"
   ]
  },
  {
   "cell_type": "code",
   "execution_count": 2,
   "metadata": {},
   "outputs": [],
   "source": [
    "from importlib import reload"
   ]
  },
  {
   "cell_type": "code",
   "execution_count": 3,
   "metadata": {},
   "outputs": [],
   "source": [
    "import sparse_crm as sc"
   ]
  },
  {
   "cell_type": "code",
   "execution_count": 10,
   "metadata": {},
   "outputs": [
    {
     "name": "stdout",
     "output_type": "stream",
     "text": [
      "[\n",
      "\t [0, 0, 0, 0, 0]\n",
      "\t [-140, 0, 0, 0, 0]\n",
      "\t [0, 0, -93, -152, 0]\n",
      "\t [0, 0, 0, 111, 0]\n",
      "]\n"
     ]
    },
    {
     "data": {
      "text/plain": [
       "[[0, 0, 0, 0, 0], [-140, 0, 0, 0, 0], [0, 0, -93, -152, 0], [0, 0, 0, 111, 0]]"
      ]
     },
     "execution_count": 10,
     "metadata": {},
     "output_type": "execute_result"
    }
   ],
   "source": [
    "m_c.create_matrix_with_sparse_vals(4,5,200, 0.2)"
   ]
  },
  {
   "cell_type": "code",
   "execution_count": 11,
   "metadata": {},
   "outputs": [
    {
     "name": "stdout",
     "output_type": "stream",
     "text": [
      "[\n",
      "\t [0, 0, 0, 0, 0]\n",
      "\t [5, 0, 0, 0, 0]\n",
      "\t [0, -7, 5, -10, 2]\n",
      "\t [3, 9, 0, 4, 0]\n",
      "]\n"
     ]
    },
    {
     "data": {
      "text/plain": [
       "[[0, 0, 0, 0, 0], [5, 0, 0, 0, 0], [0, -7, 5, -10, 2], [3, 9, 0, 4, 0]]"
      ]
     },
     "execution_count": 11,
     "metadata": {},
     "output_type": "execute_result"
    }
   ],
   "source": [
    "m_c.create_matrix_with_sparse_vals(4,5,10, 0.4)"
   ]
  },
  {
   "cell_type": "code",
   "execution_count": 12,
   "metadata": {},
   "outputs": [
    {
     "name": "stdout",
     "output_type": "stream",
     "text": [
      "[\n",
      "\t [0, 0, -7, 0]\n",
      "\t [0, 0, 0, 0]\n",
      "\t [0, -3, -6, 6]\n",
      "\t [-9, 3, 0, 0]\n",
      "]\n"
     ]
    }
   ],
   "source": [
    "m = m_c.create_matrix_with_sparse_vals(4,4,9, 0.4)"
   ]
  },
  {
   "cell_type": "code",
   "execution_count": 13,
   "metadata": {},
   "outputs": [],
   "source": [
    "SM = sc.SparseCRM()"
   ]
  },
  {
   "cell_type": "code",
   "execution_count": 14,
   "metadata": {},
   "outputs": [],
   "source": [
    "SM.pack(m)"
   ]
  },
  {
   "cell_type": "code",
   "execution_count": 15,
   "metadata": {},
   "outputs": [
    {
     "name": "stdout",
     "output_type": "stream",
     "text": [
      "AN: [-7, -3, -6, 6, -9, 3]\n",
      "NR: [0, 2, 3, 1, 5, 4]\n",
      "NC: [2, 5, 0, 3, 4, 1]\n",
      "JR: [0, -1, 1, 4]\n",
      "JC: [4, 1, 0, 3]\n",
      "kStrok 4\n",
      "kStolb 4\n"
     ]
    }
   ],
   "source": [
    "SM.print_info()"
   ]
  },
  {
   "cell_type": "code",
   "execution_count": 16,
   "metadata": {},
   "outputs": [
    {
     "name": "stdout",
     "output_type": "stream",
     "text": [
      "AN: [10, 50, 30, 20, 60, 80, 70, 170]\n",
      "NR: [0, 2, 1, 4, 5, 3, 7, 6]\n",
      "NC: [4, 3, 2, 1, 6, 7, 0, 5]\n",
      "JR: [0, 1, 3, -1, 6]\n",
      "JC: [1, 0, 2, 5]\n",
      "kStrok 5\n",
      "kStolb 4\n"
     ]
    }
   ],
   "source": [
    "m2 = [\n",
    "    [0,10,0,0],\n",
    "    [50, 0, 30, 0],\n",
    "    [20, 60, 0, 80],\n",
    "    [0,0,0,0],\n",
    "    [0,70,0,170]\n",
    "]\n",
    "SM2 = sc.SparseCRM()\n",
    "SM2.pack(m2)\n",
    "SM2.print_info()"
   ]
  },
  {
   "cell_type": "code",
   "execution_count": 171,
   "metadata": {},
   "outputs": [
    {
     "name": "stdout",
     "output_type": "stream",
     "text": [
      "[\n",
      "\t [0, 10, 0, 0]\n",
      "\t [50, 0, 30, 0]\n",
      "\t [20, 60, 0, 80]\n",
      "\t [0, 0, 0, 0]\n",
      "\t [0, 70, 0, 170]\n",
      "]\n"
     ]
    },
    {
     "data": {
      "text/plain": [
       "[[0, 10, 0, 0], [50, 0, 30, 0], [20, 60, 0, 80], [0, 0, 0, 0], [0, 70, 0, 170]]"
      ]
     },
     "execution_count": 171,
     "metadata": {},
     "output_type": "execute_result"
    }
   ],
   "source": [
    "SM2.unpack(verbose=True)"
   ]
  },
  {
   "cell_type": "code",
   "execution_count": 119,
   "metadata": {},
   "outputs": [
    {
     "name": "stdout",
     "output_type": "stream",
     "text": [
      "[\n",
      "\t [0, 0, 0]\n",
      "\t [0, 0, -2]\n",
      "\t [0, 0, 0]\n",
      "]\n",
      "AN: [-2]\n",
      "NR: [0]\n",
      "NC: [0]\n",
      "JR: [-1, 0, -1]\n",
      "JC: [-1, -1, 0]\n",
      "[\n",
      "\t [0, 0, 0]\n",
      "\t [0, 0, -2]\n",
      "\t [0, 0, 0]\n",
      "]\n"
     ]
    },
    {
     "data": {
      "text/plain": [
       "True"
      ]
     },
     "execution_count": 119,
     "metadata": {},
     "output_type": "execute_result"
    }
   ],
   "source": [
    "reload(sc)\n",
    "m3 = m_c.create_matrix_with_sparse_vals(3,3,9, 0.1, rd_seed=34573626543)\n",
    "SM3 = sc.SparseCRM()\n",
    "SM3.pack(m3)\n",
    "SM3.print_info()\n",
    "m3 == SM3.unpack(verbose=True)"
   ]
  },
  {
   "cell_type": "code",
   "execution_count": 33,
   "metadata": {},
   "outputs": [
    {
     "data": {
      "text/plain": [
       "<module 'sparse_crm' from 'C:\\\\Users\\\\igors\\\\My_Code\\\\PyHomework\\\\Sparse_matrices\\\\sparse_crm.py'>"
      ]
     },
     "execution_count": 33,
     "metadata": {},
     "output_type": "execute_result"
    }
   ],
   "source": [
    "reload(sc)"
   ]
  },
  {
   "cell_type": "code",
   "execution_count": 37,
   "metadata": {},
   "outputs": [
    {
     "name": "stdout",
     "output_type": "stream",
     "text": [
      "AN: [10, 50, 30, 20, 60, 80, 70, 170]\n",
      "NR: [0, 2, 1, 4, 5, 3, 7, 6]\n",
      "NC: [4, 3, 2, 1, 6, 7, 0, 5]\n",
      "JR: [0, 1, 3, -1, 6]\n",
      "JC: [1, 0, 2, 5]\n"
     ]
    }
   ],
   "source": [
    "m2 = [\n",
    "    [0,10,0,0],\n",
    "    [50, 0, 30, 0],\n",
    "    [20, 60, 0, 80],\n",
    "    [0,0,0,0],\n",
    "    [0,70,0,170]\n",
    "]\n",
    "SM2 = sc.SparseCRM()\n",
    "SM2.pack(m2)\n",
    "SM2.print_info()"
   ]
  },
  {
   "cell_type": "code",
   "execution_count": 38,
   "metadata": {},
   "outputs": [
    {
     "name": "stdout",
     "output_type": "stream",
     "text": [
      "[\n",
      "\t [0, 10, 0, 0]\n",
      "\t [50, 0, 30, 0]\n",
      "\t [20, 60, 0, 80]\n",
      "\t [0, 0, 0, 0]\n",
      "\t [0, 70, 0, 170]\n",
      "]\n"
     ]
    },
    {
     "data": {
      "text/plain": [
       "[[0, 10, 0, 0], [50, 0, 30, 0], [20, 60, 0, 80], [0, 0, 0, 0], [0, 70, 0, 170]]"
      ]
     },
     "execution_count": 38,
     "metadata": {},
     "output_type": "execute_result"
    }
   ],
   "source": [
    "SM2.unpack(verbose=True)"
   ]
  },
  {
   "cell_type": "code",
   "execution_count": 42,
   "metadata": {},
   "outputs": [
    {
     "data": {
      "text/plain": [
       "True"
      ]
     },
     "execution_count": 42,
     "metadata": {},
     "output_type": "execute_result"
    }
   ],
   "source": [
    "SM2.unpack() == m2"
   ]
  },
  {
   "cell_type": "markdown",
   "metadata": {},
   "source": [
    "# Тесты со сложением"
   ]
  },
  {
   "cell_type": "code",
   "execution_count": 71,
   "metadata": {
    "scrolled": true
   },
   "outputs": [
    {
     "data": {
      "text/plain": [
       "<module 'sparse_crm' from 'C:\\\\Users\\\\igors\\\\My_Code\\\\PyHomework\\\\Sparse_matrices\\\\sparse_crm.py'>"
      ]
     },
     "execution_count": 71,
     "metadata": {},
     "output_type": "execute_result"
    }
   ],
   "source": [
    "reload(sc)"
   ]
  },
  {
   "cell_type": "code",
   "execution_count": 43,
   "metadata": {
    "scrolled": false
   },
   "outputs": [
    {
     "name": "stdout",
     "output_type": "stream",
     "text": [
      "AN: [10, 50, 30, 20, 60, 80, 70, 170]\n",
      "NR: [0, 2, 1, 4, 5, 3, 7, 6]\n",
      "NC: [4, 3, 2, 1, 6, 7, 0, 5]\n",
      "JR: [0, 1, 3, -1, 6]\n",
      "JC: [1, 0, 2, 5]\n",
      "\n",
      "[\n",
      "\t [0, 10, 0, 0]\n",
      "\t [50, 0, 30, 0]\n",
      "\t [20, 60, 0, 80]\n",
      "\t [0, 0, 0, 0]\n",
      "\t [0, 70, 0, 170]\n",
      "]\n",
      "\n",
      "AN: [20, 30, 40, 50, 30, 40]\n",
      "NR: [1, 2, 3, 0, 5, 4]\n",
      "NC: [0, 4, 5, 3, 1, 2]\n",
      "JR: [-1, -1, -1, 0, 4]\n",
      "JC: [0, 1, 2, 3]\n",
      "\n",
      "[\n",
      "\t [0, 0, 0, 0]\n",
      "\t [0, 0, 0, 0]\n",
      "\t [0, 0, 0, 0]\n",
      "\t [20, 30, 40, 50]\n",
      "\t [0, 30, 40, 0]\n",
      "]\n",
      "\n",
      "RESULT:\n",
      "\n",
      "[\n",
      "\t [0, 10, 0, 0]\n",
      "\t [50, 0, 30, 0]\n",
      "\t [20, 60, 0, 80]\n",
      "\t [20, 30, 40, 50]\n",
      "\t [0, 100, 40, 170]\n",
      "]\n",
      "================================\n",
      "N_1: 8, N_2: 6\n",
      "\n",
      "kStrok: 0, kB: 0, kC: 0, y1: 0, y2: 3\n",
      "  BRANCH 2 --- y1 != y2\n",
      "    BRANCH 2.1 --- y2 > y1\n",
      "      BRANCH 2.1 --- I --- kB: 0, y1: 0, y2: 3, res_matrix: []\n",
      "      BRANCH 2.1 --- O --- kB: 1, y1: 0, y2: 3, res_matrix: [10]\n",
      "      BRANCH 2.1 --- I --- kB: 1, y1: 1, y2: 3, res_matrix: [10]\n",
      "      BRANCH 2.1 --- O --- kB: 2, y1: 1, y2: 3, res_matrix: [10, 50]\n",
      "      BRANCH 2.1 --- I --- kB: 2, y1: 1, y2: 3, res_matrix: [10, 50]\n",
      "      BRANCH 2.1 --- O --- kB: 3, y1: 1, y2: 3, res_matrix: [10, 50, 30]\n",
      "      BRANCH 2.1 --- I --- kB: 3, y1: 2, y2: 3, res_matrix: [10, 50, 30]\n",
      "      BRANCH 2.1 --- O --- kB: 4, y1: 2, y2: 3, res_matrix: [10, 50, 30, 20]\n",
      "      BRANCH 2.1 --- I --- kB: 4, y1: 2, y2: 3, res_matrix: [10, 50, 30, 20]\n",
      "      BRANCH 2.1 --- O --- kB: 5, y1: 2, y2: 3, res_matrix: [10, 50, 30, 20, 60]\n",
      "      BRANCH 2.1 --- I --- kB: 5, y1: 2, y2: 3, res_matrix: [10, 50, 30, 20, 60]\n",
      "      BRANCH 2.1 --- O --- kB: 6, y1: 2, y2: 3, res_matrix: [10, 50, 30, 20, 60, 80]\n",
      "\n",
      "kStrok: 1, kB: 6, kC: 0, y1: 4, y2: 3\n",
      "  BRANCH 2 --- y1 != y2\n",
      "    BRANCH 2.2 --- y1 > y2\n",
      "      BRANCH 2.2 --- I ---  kC: 0, y1: 4, y2: 3, res_matrix: [10, 50, 30, 20, 60, 80]\n",
      "      BRANCH 2.2 --- O ---  kC: 1, y1: 4, y2: 3, res_matrix: [10, 50, 30, 20, 60, 80, 20]\n",
      "      BRANCH 2.2 --- I ---  kC: 1, y1: 4, y2: 3, res_matrix: [10, 50, 30, 20, 60, 80, 20]\n",
      "      BRANCH 2.2 --- O ---  kC: 2, y1: 4, y2: 3, res_matrix: [10, 50, 30, 20, 60, 80, 20, 30]\n",
      "      BRANCH 2.2 --- I ---  kC: 2, y1: 4, y2: 3, res_matrix: [10, 50, 30, 20, 60, 80, 20, 30]\n",
      "      BRANCH 2.2 --- O ---  kC: 3, y1: 4, y2: 3, res_matrix: [10, 50, 30, 20, 60, 80, 20, 30, 40]\n",
      "      BRANCH 2.2 --- I ---  kC: 3, y1: 4, y2: 3, res_matrix: [10, 50, 30, 20, 60, 80, 20, 30, 40]\n",
      "      BRANCH 2.2 --- O ---  kC: 4, y1: 4, y2: 3, res_matrix: [10, 50, 30, 20, 60, 80, 20, 30, 40, 50]\n",
      "\n",
      "kStrok: 2, kB: 6, kC: 4, y1: 4, y2: 4\n",
      "  BRANCH 1 --- y1 == y2\n",
      "    BRANCH 1.2 --- x1 == x2\n",
      "      BRANCH 1.2 --- I --- kB: 6, kC: 4, x1: 1, x2: 1, res_matrix: [10, 50, 30, 20, 60, 80, 20, 30, 40, 50]\n",
      "      BRANCH 1.2 --- O --- kB: 7, kC: 5, x1: 1, x2: 1, res_matrix: [10, 50, 30, 20, 60, 80, 20, 30, 40, 50, 100]\n",
      "    BRANCH 1 END BREAKE kB != N_1 and kC != N_2 ROW ENDED\n",
      "kStrok: 3, kB: 7, kC: 5, y1: 4, y2: 4\n",
      "  BRANCH 1 --- y1 == y2\n",
      "    BRANCH 1.1 --- x1 != x2\n",
      "      BRANCH 1.1 --- I --- kB: 7, kC: 5, x1: 3, x2: 2, res_matrix: [10, 50, 30, 20, 60, 80, 20, 30, 40, 50, 100]\n",
      "      x1 > x2 FROM C\n",
      "      BRANCH 1.1 --- 0 --- kB: 7, kC: 6, x1: 3, x2: 2, res_matrix: [10, 50, 30, 20, 60, 80, 20, 30, 40, 50, 100, 40]\n",
      "    BRANCH 1 END BREAKE kC == N_2 and kB != N_1 MATRICES PROCCECED\n",
      "kStrok: 4. All elements procceced\n",
      "\n",
      "AN: [10, 50, 30, 20, 60, 80, 20, 30, 40, 50, 100, 40, 170]\n",
      "NR: []\n",
      "NC: []\n",
      "JR: [-1, -1, -1, -1, -1]\n",
      "JC: [-1, -1, -1, -1]\n"
     ]
    }
   ],
   "source": [
    "m2 = [\n",
    "    [0,10,0,0],\n",
    "    [50, 0, 30, 0],\n",
    "    [20, 60, 0, 80],\n",
    "    [0,0,0,0],\n",
    "    [0,70,0,170]\n",
    "]\n",
    "m2_test = [\n",
    "    [0,10,0,0],\n",
    "    [0, 0, 0, 0],\n",
    "    [0, 0, 0, 80],\n",
    "    [0,0,0,0],\n",
    "    [0,170,0,30]\n",
    "]\n",
    "m2_test_0 = [\n",
    "    [0,0,0,0],\n",
    "    [0,0,0,0],\n",
    "    [0,0,0,0],\n",
    "    [10,10,10,10],\n",
    "    [0,0,0,0]\n",
    "]\n",
    "m2_test_1 = [\n",
    "    [0,0,0,0],\n",
    "    [0,0,0,0],\n",
    "    [0,0,0,0],\n",
    "    [20,30,40,50],\n",
    "    [0,0,0,0]\n",
    "]\n",
    "m2_test_2 = [\n",
    "    [0,0,0,0],\n",
    "    [0,0,0,0],\n",
    "    [0,0,0,0],\n",
    "    [20,30,40,50],\n",
    "    [0,30,40,0]\n",
    "]\n",
    "SM_test_1 = sc.SparseCRM()\n",
    "SM_test_2 = sc.SparseCRM()\n",
    "\n",
    "M1 = m2\n",
    "M2 = m2_test_2\n",
    "\n",
    "SM_test_1.pack(M1)\n",
    "SM_test_2.pack(M2)\n",
    "\n",
    "SM_test_1.print_info()\n",
    "print()\n",
    "m_c.sym_matrix_print(SM_test_1.unpack(), len(SM_test_1.JR))\n",
    "print()\n",
    "SM_test_2.print_info()\n",
    "print()\n",
    "m_c.sym_matrix_print(SM_test_2.unpack(), len(SM_test_2.JR))\n",
    "print()\n",
    "print(\"RESULT:\")\n",
    "print()\n",
    "sc.simple_sum(M1, M2)\n",
    "print(\"=\"*32)\n",
    "\n",
    "SM_test_1.addition(SM_test_2)"
   ]
  },
  {
   "cell_type": "code",
   "execution_count": null,
   "metadata": {},
   "outputs": [],
   "source": []
  },
  {
   "cell_type": "markdown",
   "metadata": {},
   "source": [
    "# seeds: 9259 3405\n",
    "# seeds: 248 5760"
   ]
  },
  {
   "cell_type": "code",
   "execution_count": 126,
   "metadata": {},
   "outputs": [
    {
     "data": {
      "text/plain": [
       "<module 'sparse_crm' from 'C:\\\\Users\\\\igors\\\\My_Code\\\\PyHomework\\\\Sparse_matrices\\\\sparse_crm.py'>"
      ]
     },
     "execution_count": 126,
     "metadata": {},
     "output_type": "execute_result"
    }
   ],
   "source": [
    "reload(sc)"
   ]
  },
  {
   "cell_type": "code",
   "execution_count": 127,
   "metadata": {},
   "outputs": [
    {
     "name": "stdout",
     "output_type": "stream",
     "text": [
      "seeds: 1616 4553\n",
      "[\n",
      "\t [0, 0, 0, 0]\n",
      "\t [9, 0, 0, 0]\n",
      "\t [0, 0, 0, 5]\n",
      "\t [0, 0, 5, 0]\n",
      "]\n",
      "[\n",
      "\t [0, -5, 0, 0]\n",
      "\t [0, 0, 0, 0]\n",
      "\t [0, 0, 0, 0]\n",
      "\t [5, -3, 0, 0]\n",
      "]\n",
      "RESULT\n",
      "[\n",
      "\t [0, -5, 0, 0]\n",
      "\t [9, 0, 0, 0]\n",
      "\t [0, 0, 0, 5]\n",
      "\t [5, -3, 5, 0]\n",
      "]\n",
      "AN: [-5, 9, 5, 5, -3, 5]\n",
      "NR: [0, 1, 2, 4, 5, 3]\n",
      "NC: [4, 3, 2, 1, 0, 5]\n",
      "JR: [0, 1, 2, 3]\n",
      "JC: [1, 0, 5, 2]\n",
      "================================\n",
      "N_1: 3, N_2: 3\n",
      "\n",
      "=> x1 != x2\n",
      "x1: 0\n",
      "x2: 1\n",
      "kB: 1\n",
      "kC: 0\n",
      "res_matrix.AN: [9]\n",
      "=> x1 != x2\n",
      "x1: 3\n",
      "x2: 1\n",
      "kB: 1\n",
      "kC: 1\n",
      "res_matrix.AN: [9, -5]\n",
      "=> x1 != x2\n",
      "x1: 3\n",
      "x2: 0\n",
      "kB: 1\n",
      "kC: 2\n",
      "res_matrix.AN: [9, -5, 5]\n",
      "=> x1 != x2\n",
      "x1: 3\n",
      "x2: 1\n",
      "kB: 1\n",
      "kC: 3\n",
      "res_matrix.AN: [9, -5, 5, -3]\n",
      "NEW ROW\n"
     ]
    },
    {
     "ename": "IndexError",
     "evalue": "list index out of range",
     "output_type": "error",
     "traceback": [
      "\u001b[1;31m---------------------------------------------------------------------------\u001b[0m",
      "\u001b[1;31mIndexError\u001b[0m                                Traceback (most recent call last)",
      "\u001b[1;32m<ipython-input-127-4ab4a542ce6f>\u001b[0m in \u001b[0;36m<module>\u001b[1;34m\u001b[0m\n\u001b[0;32m     20\u001b[0m \u001b[0mSM_test_2\u001b[0m\u001b[1;33m.\u001b[0m\u001b[0mpack\u001b[0m\u001b[1;33m(\u001b[0m\u001b[0mM2\u001b[0m\u001b[1;33m)\u001b[0m\u001b[1;33m\u001b[0m\u001b[1;33m\u001b[0m\u001b[0m\n\u001b[0;32m     21\u001b[0m \u001b[1;33m\u001b[0m\u001b[0m\n\u001b[1;32m---> 22\u001b[1;33m \u001b[0mSM_test_1\u001b[0m\u001b[1;33m.\u001b[0m\u001b[0maddition\u001b[0m\u001b[1;33m(\u001b[0m\u001b[0mSM_test_2\u001b[0m\u001b[1;33m)\u001b[0m\u001b[1;33m\u001b[0m\u001b[1;33m\u001b[0m\u001b[0m\n\u001b[0m",
      "\u001b[1;32m~\\My_Code\\PyHomework\\Sparse_matrices\\sparse_crm.py\u001b[0m in \u001b[0;36maddition\u001b[1;34m(self, matrix)\u001b[0m\n\u001b[0;32m    269\u001b[0m             \u001b[1;32mwhile\u001b[0m \u001b[1;32mTrue\u001b[0m\u001b[1;33m:\u001b[0m\u001b[1;33m\u001b[0m\u001b[1;33m\u001b[0m\u001b[0m\n\u001b[0;32m    270\u001b[0m                 \u001b[0mx1\u001b[0m \u001b[1;33m=\u001b[0m \u001b[0mself\u001b[0m\u001b[1;33m.\u001b[0m\u001b[0m_find_x_coord\u001b[0m\u001b[1;33m(\u001b[0m\u001b[0mkB\u001b[0m\u001b[1;33m)\u001b[0m\u001b[1;33m\u001b[0m\u001b[1;33m\u001b[0m\u001b[0m\n\u001b[1;32m--> 271\u001b[1;33m                 \u001b[0mx2\u001b[0m \u001b[1;33m=\u001b[0m \u001b[0mmatrix\u001b[0m\u001b[1;33m.\u001b[0m\u001b[0m_find_x_coord\u001b[0m\u001b[1;33m(\u001b[0m\u001b[0mkC\u001b[0m\u001b[1;33m)\u001b[0m\u001b[1;33m\u001b[0m\u001b[1;33m\u001b[0m\u001b[0m\n\u001b[0m\u001b[0;32m    272\u001b[0m                 \u001b[1;32mif\u001b[0m \u001b[0mx1\u001b[0m \u001b[1;33m!=\u001b[0m \u001b[0mx2\u001b[0m\u001b[1;33m:\u001b[0m \u001b[1;31m#ЗДЕСЬ ПЕРВАЯ ЗВЕЗДОЧКА!!!\u001b[0m\u001b[1;33m\u001b[0m\u001b[1;33m\u001b[0m\u001b[0m\n\u001b[0;32m    273\u001b[0m                     \u001b[0mprint\u001b[0m\u001b[1;33m(\u001b[0m\u001b[1;34m\"=> x1 != x2\"\u001b[0m\u001b[1;33m)\u001b[0m\u001b[1;33m\u001b[0m\u001b[1;33m\u001b[0m\u001b[0m\n",
      "\u001b[1;32m~\\My_Code\\PyHomework\\Sparse_matrices\\sparse_crm.py\u001b[0m in \u001b[0;36m_find_x_coord\u001b[1;34m(self, ind_from_AN)\u001b[0m\n\u001b[0;32m     23\u001b[0m         \u001b[1;32melse\u001b[0m\u001b[1;33m:\u001b[0m\u001b[1;33m\u001b[0m\u001b[1;33m\u001b[0m\u001b[0m\n\u001b[0;32m     24\u001b[0m             \u001b[1;32mwhile\u001b[0m \u001b[0mind_from_AN\u001b[0m \u001b[1;32mnot\u001b[0m \u001b[1;32min\u001b[0m \u001b[0mself\u001b[0m\u001b[1;33m.\u001b[0m\u001b[0mJC\u001b[0m\u001b[1;33m:\u001b[0m\u001b[1;33m\u001b[0m\u001b[1;33m\u001b[0m\u001b[0m\n\u001b[1;32m---> 25\u001b[1;33m                 \u001b[0mind_from_AN\u001b[0m \u001b[1;33m=\u001b[0m \u001b[0mself\u001b[0m\u001b[1;33m.\u001b[0m\u001b[0mNC\u001b[0m\u001b[1;33m[\u001b[0m\u001b[0mind_from_AN\u001b[0m\u001b[1;33m]\u001b[0m\u001b[1;33m\u001b[0m\u001b[1;33m\u001b[0m\u001b[0m\n\u001b[0m\u001b[0;32m     26\u001b[0m             \u001b[0mx\u001b[0m \u001b[1;33m=\u001b[0m \u001b[0mself\u001b[0m\u001b[1;33m.\u001b[0m\u001b[0mJC\u001b[0m\u001b[1;33m.\u001b[0m\u001b[0mindex\u001b[0m\u001b[1;33m(\u001b[0m\u001b[0mind_from_AN\u001b[0m\u001b[1;33m)\u001b[0m\u001b[1;33m\u001b[0m\u001b[1;33m\u001b[0m\u001b[0m\n\u001b[0;32m     27\u001b[0m         \u001b[1;32mreturn\u001b[0m \u001b[0mx\u001b[0m\u001b[1;33m\u001b[0m\u001b[1;33m\u001b[0m\u001b[0m\n",
      "\u001b[1;31mIndexError\u001b[0m: list index out of range"
     ]
    }
   ],
   "source": [
    "SM_test_1 = sc.SparseCRM()\n",
    "SM_test_2 = sc.SparseCRM()\n",
    "SM_test_3 = sc.SparseCRM()\n",
    "\n",
    "seed1 = m_c.random.randint(0, 10000)\n",
    "seed2 = m_c.random.randint(0, 10000)\n",
    "print(\"seeds: {} {}\".format(seed1, seed2))\n",
    "\n",
    "M1 = m_c.create_matrix_with_sparse_vals(4,4,9, 0.2, rd_seed=seed1)\n",
    "M2 = m_c.create_matrix_with_sparse_vals(4,4,9, 0.2, rd_seed=seed2)\n",
    "#m_c.sym_matrix_print(M1, len(M1))\n",
    "#m_c.sym_matrix_print(M2, len(M2))\n",
    "print(\"RESULT\")\n",
    "M3 = sc.simple_sum(M1, M2)\n",
    "SM_test_3.pack(M3)\n",
    "SM_test_3.print_info()\n",
    "print(\"=\"*32)\n",
    "\n",
    "SM_test_1.pack(M1)\n",
    "SM_test_2.pack(M2)\n",
    "\n",
    "SM_test_1.addition(SM_test_2)"
   ]
  },
  {
   "cell_type": "code",
   "execution_count": null,
   "metadata": {},
   "outputs": [],
   "source": []
  },
  {
   "cell_type": "markdown",
   "metadata": {},
   "source": [
    "# Тест обхода столбца или строки"
   ]
  },
  {
   "cell_type": "code",
   "execution_count": 151,
   "metadata": {},
   "outputs": [
    {
     "data": {
      "text/plain": [
       "<module 'sparse_crm' from 'C:\\\\Users\\\\igors\\\\My_Code\\\\PyHomework\\\\Sparse_matrices\\\\sparse_crm.py'>"
      ]
     },
     "execution_count": 151,
     "metadata": {},
     "output_type": "execute_result"
    }
   ],
   "source": [
    "reload(sc)"
   ]
  },
  {
   "cell_type": "code",
   "execution_count": 152,
   "metadata": {},
   "outputs": [
    {
     "name": "stdout",
     "output_type": "stream",
     "text": [
      "seed: 7332\n",
      "[\n",
      "\t [0, 0, 0, 0, 0]\n",
      "\t [0, -6, 0, 0, 0]\n",
      "\t [0, 0, -6, 0, 0]\n",
      "\t [-2, 0, 0, 0, 6]\n",
      "\t [0, 0, 0, 0, 7]\n",
      "]\n",
      "================================\n",
      "AN: [-6, -6, -2, 6, 7]\n",
      "NR: [0, 1, 3, 2, 4]\n",
      "NC: [0, 1, 2, 4, 3]\n",
      "JR: [-1, 0, 1, 2, 4]\n",
      "JC: [2, 0, 1, -1, 3]\n",
      "AN index x: 2\n",
      "[-2]\n",
      "AN index x: 0\n",
      "[-6]\n",
      "AN index x: 1\n",
      "[-6]\n",
      "AN index x: -1\n",
      "[]\n",
      "AN index x: 3\n",
      "\tx: 3, NC[x]: 4, AN[NC[x]]: 7\n",
      "\n",
      "[6, 7]\n"
     ]
    }
   ],
   "source": [
    "SM_test_1 = sc.SparseCRM()\n",
    "\n",
    "seed1 = m_c.random.randint(0, 10000)\n",
    "print(\"seed: {}\".format(seed1))\n",
    "\n",
    "row = 5\n",
    "col = 5\n",
    "\n",
    "M1 = m_c.create_matrix_with_sparse_vals(rows,cols,9, 0.2, rd_seed=seed1)\n",
    "print(\"=\"*32)\n",
    "\n",
    "SM_test_1.pack(M1)\n",
    "SM_test_1.print_info()\n",
    "\n",
    "for i in range(cols):\n",
    "    print(SM_test_1._compose_col(i))\n",
    "for i in range(rows):\n",
    "    print(SM_test_1._compose_row(i))\n",
    "    \n"
   ]
  },
  {
   "cell_type": "code",
   "execution_count": null,
   "metadata": {},
   "outputs": [],
   "source": []
  }
 ],
 "metadata": {
  "kernelspec": {
   "display_name": "Python 3",
   "language": "python",
   "name": "python3"
  },
  "language_info": {
   "codemirror_mode": {
    "name": "ipython",
    "version": 3
   },
   "file_extension": ".py",
   "mimetype": "text/x-python",
   "name": "python",
   "nbconvert_exporter": "python",
   "pygments_lexer": "ipython3",
   "version": "3.7.4"
  }
 },
 "nbformat": 4,
 "nbformat_minor": 2
}
