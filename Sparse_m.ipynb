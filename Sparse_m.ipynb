{
 "cells": [
  {
   "cell_type": "code",
   "execution_count": 1,
   "metadata": {},
   "outputs": [],
   "source": [
    "import matr_create as m_c"
   ]
  },
  {
   "cell_type": "code",
   "execution_count": 2,
   "metadata": {},
   "outputs": [],
   "source": [
    "from importlib import reload"
   ]
  },
  {
   "cell_type": "code",
   "execution_count": 3,
   "metadata": {},
   "outputs": [],
   "source": [
    "import sparse_crm as sc"
   ]
  },
  {
   "cell_type": "code",
   "execution_count": 10,
   "metadata": {},
   "outputs": [
    {
     "name": "stdout",
     "output_type": "stream",
     "text": [
      "[\n",
      "\t [0, 0, 0, 0, 0]\n",
      "\t [-140, 0, 0, 0, 0]\n",
      "\t [0, 0, -93, -152, 0]\n",
      "\t [0, 0, 0, 111, 0]\n",
      "]\n"
     ]
    },
    {
     "data": {
      "text/plain": [
       "[[0, 0, 0, 0, 0], [-140, 0, 0, 0, 0], [0, 0, -93, -152, 0], [0, 0, 0, 111, 0]]"
      ]
     },
     "execution_count": 10,
     "metadata": {},
     "output_type": "execute_result"
    }
   ],
   "source": [
    "m_c.create_matrix_with_sparse_vals(4,5,200, 0.2)"
   ]
  },
  {
   "cell_type": "code",
   "execution_count": 11,
   "metadata": {},
   "outputs": [
    {
     "name": "stdout",
     "output_type": "stream",
     "text": [
      "[\n",
      "\t [0, 0, 0, 0, 0]\n",
      "\t [5, 0, 0, 0, 0]\n",
      "\t [0, -7, 5, -10, 2]\n",
      "\t [3, 9, 0, 4, 0]\n",
      "]\n"
     ]
    },
    {
     "data": {
      "text/plain": [
       "[[0, 0, 0, 0, 0], [5, 0, 0, 0, 0], [0, -7, 5, -10, 2], [3, 9, 0, 4, 0]]"
      ]
     },
     "execution_count": 11,
     "metadata": {},
     "output_type": "execute_result"
    }
   ],
   "source": [
    "m_c.create_matrix_with_sparse_vals(4,5,10, 0.4)"
   ]
  },
  {
   "cell_type": "code",
   "execution_count": 12,
   "metadata": {},
   "outputs": [
    {
     "name": "stdout",
     "output_type": "stream",
     "text": [
      "[\n",
      "\t [0, 0, -7, 0]\n",
      "\t [0, 0, 0, 0]\n",
      "\t [0, -3, -6, 6]\n",
      "\t [-9, 3, 0, 0]\n",
      "]\n"
     ]
    }
   ],
   "source": [
    "m = m_c.create_matrix_with_sparse_vals(4,4,9, 0.4)"
   ]
  },
  {
   "cell_type": "code",
   "execution_count": 13,
   "metadata": {},
   "outputs": [],
   "source": [
    "SM = sc.SparseCRM()"
   ]
  },
  {
   "cell_type": "code",
   "execution_count": 14,
   "metadata": {},
   "outputs": [],
   "source": [
    "SM.pack(m)"
   ]
  },
  {
   "cell_type": "code",
   "execution_count": 15,
   "metadata": {},
   "outputs": [
    {
     "name": "stdout",
     "output_type": "stream",
     "text": [
      "AN: [-7, -3, -6, 6, -9, 3]\n",
      "NR: [0, 2, 3, 1, 5, 4]\n",
      "NC: [2, 5, 0, 3, 4, 1]\n",
      "JR: [0, -1, 1, 4]\n",
      "JC: [4, 1, 0, 3]\n",
      "kStrok 4\n",
      "kStolb 4\n"
     ]
    }
   ],
   "source": [
    "SM.print_info()"
   ]
  },
  {
   "cell_type": "code",
   "execution_count": 16,
   "metadata": {},
   "outputs": [
    {
     "name": "stdout",
     "output_type": "stream",
     "text": [
      "AN: [10, 50, 30, 20, 60, 80, 70, 170]\n",
      "NR: [0, 2, 1, 4, 5, 3, 7, 6]\n",
      "NC: [4, 3, 2, 1, 6, 7, 0, 5]\n",
      "JR: [0, 1, 3, -1, 6]\n",
      "JC: [1, 0, 2, 5]\n",
      "kStrok 5\n",
      "kStolb 4\n"
     ]
    }
   ],
   "source": [
    "m2 = [\n",
    "    [0,10,0,0],\n",
    "    [50, 0, 30, 0],\n",
    "    [20, 60, 0, 80],\n",
    "    [0,0,0,0],\n",
    "    [0,70,0,170]\n",
    "]\n",
    "SM2 = sc.SparseCRM()\n",
    "SM2.pack(m2)\n",
    "SM2.print_info()"
   ]
  },
  {
   "cell_type": "code",
   "execution_count": 171,
   "metadata": {},
   "outputs": [
    {
     "name": "stdout",
     "output_type": "stream",
     "text": [
      "[\n",
      "\t [0, 10, 0, 0]\n",
      "\t [50, 0, 30, 0]\n",
      "\t [20, 60, 0, 80]\n",
      "\t [0, 0, 0, 0]\n",
      "\t [0, 70, 0, 170]\n",
      "]\n"
     ]
    },
    {
     "data": {
      "text/plain": [
       "[[0, 10, 0, 0], [50, 0, 30, 0], [20, 60, 0, 80], [0, 0, 0, 0], [0, 70, 0, 170]]"
      ]
     },
     "execution_count": 171,
     "metadata": {},
     "output_type": "execute_result"
    }
   ],
   "source": [
    "SM2.unpack(verbose=True)"
   ]
  },
  {
   "cell_type": "code",
   "execution_count": 119,
   "metadata": {},
   "outputs": [
    {
     "name": "stdout",
     "output_type": "stream",
     "text": [
      "[\n",
      "\t [0, 0, 0]\n",
      "\t [0, 0, -2]\n",
      "\t [0, 0, 0]\n",
      "]\n",
      "AN: [-2]\n",
      "NR: [0]\n",
      "NC: [0]\n",
      "JR: [-1, 0, -1]\n",
      "JC: [-1, -1, 0]\n",
      "[\n",
      "\t [0, 0, 0]\n",
      "\t [0, 0, -2]\n",
      "\t [0, 0, 0]\n",
      "]\n"
     ]
    },
    {
     "data": {
      "text/plain": [
       "True"
      ]
     },
     "execution_count": 119,
     "metadata": {},
     "output_type": "execute_result"
    }
   ],
   "source": [
    "reload(sc)\n",
    "m3 = m_c.create_matrix_with_sparse_vals(3,3,9, 0.1, rd_seed=34573626543)\n",
    "SM3 = sc.SparseCRM()\n",
    "SM3.pack(m3)\n",
    "SM3.print_info()\n",
    "m3 == SM3.unpack(verbose=True)"
   ]
  },
  {
   "cell_type": "code",
   "execution_count": 33,
   "metadata": {},
   "outputs": [
    {
     "data": {
      "text/plain": [
       "<module 'sparse_crm' from 'C:\\\\Users\\\\igors\\\\My_Code\\\\PyHomework\\\\Sparse_matrices\\\\sparse_crm.py'>"
      ]
     },
     "execution_count": 33,
     "metadata": {},
     "output_type": "execute_result"
    }
   ],
   "source": [
    "reload(sc)"
   ]
  },
  {
   "cell_type": "code",
   "execution_count": 37,
   "metadata": {},
   "outputs": [
    {
     "name": "stdout",
     "output_type": "stream",
     "text": [
      "AN: [10, 50, 30, 20, 60, 80, 70, 170]\n",
      "NR: [0, 2, 1, 4, 5, 3, 7, 6]\n",
      "NC: [4, 3, 2, 1, 6, 7, 0, 5]\n",
      "JR: [0, 1, 3, -1, 6]\n",
      "JC: [1, 0, 2, 5]\n"
     ]
    }
   ],
   "source": [
    "m2 = [\n",
    "    [0,10,0,0],\n",
    "    [50, 0, 30, 0],\n",
    "    [20, 60, 0, 80],\n",
    "    [0,0,0,0],\n",
    "    [0,70,0,170]\n",
    "]\n",
    "SM2 = sc.SparseCRM()\n",
    "SM2.pack(m2)\n",
    "SM2.print_info()"
   ]
  },
  {
   "cell_type": "code",
   "execution_count": 38,
   "metadata": {},
   "outputs": [
    {
     "name": "stdout",
     "output_type": "stream",
     "text": [
      "[\n",
      "\t [0, 10, 0, 0]\n",
      "\t [50, 0, 30, 0]\n",
      "\t [20, 60, 0, 80]\n",
      "\t [0, 0, 0, 0]\n",
      "\t [0, 70, 0, 170]\n",
      "]\n"
     ]
    },
    {
     "data": {
      "text/plain": [
       "[[0, 10, 0, 0], [50, 0, 30, 0], [20, 60, 0, 80], [0, 0, 0, 0], [0, 70, 0, 170]]"
      ]
     },
     "execution_count": 38,
     "metadata": {},
     "output_type": "execute_result"
    }
   ],
   "source": [
    "SM2.unpack(verbose=True)"
   ]
  },
  {
   "cell_type": "code",
   "execution_count": 42,
   "metadata": {},
   "outputs": [
    {
     "data": {
      "text/plain": [
       "True"
      ]
     },
     "execution_count": 42,
     "metadata": {},
     "output_type": "execute_result"
    }
   ],
   "source": [
    "SM2.unpack() == m2"
   ]
  },
  {
   "cell_type": "markdown",
   "metadata": {},
   "source": [
    "# Тесты со сложением"
   ]
  },
  {
   "cell_type": "code",
   "execution_count": 71,
   "metadata": {
    "scrolled": true
   },
   "outputs": [
    {
     "data": {
      "text/plain": [
       "<module 'sparse_crm' from 'C:\\\\Users\\\\igors\\\\My_Code\\\\PyHomework\\\\Sparse_matrices\\\\sparse_crm.py'>"
      ]
     },
     "execution_count": 71,
     "metadata": {},
     "output_type": "execute_result"
    }
   ],
   "source": [
    "reload(sc)"
   ]
  },
  {
   "cell_type": "code",
   "execution_count": 43,
   "metadata": {
    "scrolled": false
   },
   "outputs": [
    {
     "name": "stdout",
     "output_type": "stream",
     "text": [
      "AN: [10, 50, 30, 20, 60, 80, 70, 170]\n",
      "NR: [0, 2, 1, 4, 5, 3, 7, 6]\n",
      "NC: [4, 3, 2, 1, 6, 7, 0, 5]\n",
      "JR: [0, 1, 3, -1, 6]\n",
      "JC: [1, 0, 2, 5]\n",
      "\n",
      "[\n",
      "\t [0, 10, 0, 0]\n",
      "\t [50, 0, 30, 0]\n",
      "\t [20, 60, 0, 80]\n",
      "\t [0, 0, 0, 0]\n",
      "\t [0, 70, 0, 170]\n",
      "]\n",
      "\n",
      "AN: [20, 30, 40, 50, 30, 40]\n",
      "NR: [1, 2, 3, 0, 5, 4]\n",
      "NC: [0, 4, 5, 3, 1, 2]\n",
      "JR: [-1, -1, -1, 0, 4]\n",
      "JC: [0, 1, 2, 3]\n",
      "\n",
      "[\n",
      "\t [0, 0, 0, 0]\n",
      "\t [0, 0, 0, 0]\n",
      "\t [0, 0, 0, 0]\n",
      "\t [20, 30, 40, 50]\n",
      "\t [0, 30, 40, 0]\n",
      "]\n",
      "\n",
      "RESULT:\n",
      "\n",
      "[\n",
      "\t [0, 10, 0, 0]\n",
      "\t [50, 0, 30, 0]\n",
      "\t [20, 60, 0, 80]\n",
      "\t [20, 30, 40, 50]\n",
      "\t [0, 100, 40, 170]\n",
      "]\n",
      "================================\n",
      "N_1: 8, N_2: 6\n",
      "\n",
      "kStrok: 0, kB: 0, kC: 0, y1: 0, y2: 3\n",
      "  BRANCH 2 --- y1 != y2\n",
      "    BRANCH 2.1 --- y2 > y1\n",
      "      BRANCH 2.1 --- I --- kB: 0, y1: 0, y2: 3, res_matrix: []\n",
      "      BRANCH 2.1 --- O --- kB: 1, y1: 0, y2: 3, res_matrix: [10]\n",
      "      BRANCH 2.1 --- I --- kB: 1, y1: 1, y2: 3, res_matrix: [10]\n",
      "      BRANCH 2.1 --- O --- kB: 2, y1: 1, y2: 3, res_matrix: [10, 50]\n",
      "      BRANCH 2.1 --- I --- kB: 2, y1: 1, y2: 3, res_matrix: [10, 50]\n",
      "      BRANCH 2.1 --- O --- kB: 3, y1: 1, y2: 3, res_matrix: [10, 50, 30]\n",
      "      BRANCH 2.1 --- I --- kB: 3, y1: 2, y2: 3, res_matrix: [10, 50, 30]\n",
      "      BRANCH 2.1 --- O --- kB: 4, y1: 2, y2: 3, res_matrix: [10, 50, 30, 20]\n",
      "      BRANCH 2.1 --- I --- kB: 4, y1: 2, y2: 3, res_matrix: [10, 50, 30, 20]\n",
      "      BRANCH 2.1 --- O --- kB: 5, y1: 2, y2: 3, res_matrix: [10, 50, 30, 20, 60]\n",
      "      BRANCH 2.1 --- I --- kB: 5, y1: 2, y2: 3, res_matrix: [10, 50, 30, 20, 60]\n",
      "      BRANCH 2.1 --- O --- kB: 6, y1: 2, y2: 3, res_matrix: [10, 50, 30, 20, 60, 80]\n",
      "\n",
      "kStrok: 1, kB: 6, kC: 0, y1: 4, y2: 3\n",
      "  BRANCH 2 --- y1 != y2\n",
      "    BRANCH 2.2 --- y1 > y2\n",
      "      BRANCH 2.2 --- I ---  kC: 0, y1: 4, y2: 3, res_matrix: [10, 50, 30, 20, 60, 80]\n",
      "      BRANCH 2.2 --- O ---  kC: 1, y1: 4, y2: 3, res_matrix: [10, 50, 30, 20, 60, 80, 20]\n",
      "      BRANCH 2.2 --- I ---  kC: 1, y1: 4, y2: 3, res_matrix: [10, 50, 30, 20, 60, 80, 20]\n",
      "      BRANCH 2.2 --- O ---  kC: 2, y1: 4, y2: 3, res_matrix: [10, 50, 30, 20, 60, 80, 20, 30]\n",
      "      BRANCH 2.2 --- I ---  kC: 2, y1: 4, y2: 3, res_matrix: [10, 50, 30, 20, 60, 80, 20, 30]\n",
      "      BRANCH 2.2 --- O ---  kC: 3, y1: 4, y2: 3, res_matrix: [10, 50, 30, 20, 60, 80, 20, 30, 40]\n",
      "      BRANCH 2.2 --- I ---  kC: 3, y1: 4, y2: 3, res_matrix: [10, 50, 30, 20, 60, 80, 20, 30, 40]\n",
      "      BRANCH 2.2 --- O ---  kC: 4, y1: 4, y2: 3, res_matrix: [10, 50, 30, 20, 60, 80, 20, 30, 40, 50]\n",
      "\n",
      "kStrok: 2, kB: 6, kC: 4, y1: 4, y2: 4\n",
      "  BRANCH 1 --- y1 == y2\n",
      "    BRANCH 1.2 --- x1 == x2\n",
      "      BRANCH 1.2 --- I --- kB: 6, kC: 4, x1: 1, x2: 1, res_matrix: [10, 50, 30, 20, 60, 80, 20, 30, 40, 50]\n",
      "      BRANCH 1.2 --- O --- kB: 7, kC: 5, x1: 1, x2: 1, res_matrix: [10, 50, 30, 20, 60, 80, 20, 30, 40, 50, 100]\n",
      "    BRANCH 1 END BREAKE kB != N_1 and kC != N_2 ROW ENDED\n",
      "kStrok: 3, kB: 7, kC: 5, y1: 4, y2: 4\n",
      "  BRANCH 1 --- y1 == y2\n",
      "    BRANCH 1.1 --- x1 != x2\n",
      "      BRANCH 1.1 --- I --- kB: 7, kC: 5, x1: 3, x2: 2, res_matrix: [10, 50, 30, 20, 60, 80, 20, 30, 40, 50, 100]\n",
      "      x1 > x2 FROM C\n",
      "      BRANCH 1.1 --- 0 --- kB: 7, kC: 6, x1: 3, x2: 2, res_matrix: [10, 50, 30, 20, 60, 80, 20, 30, 40, 50, 100, 40]\n",
      "    BRANCH 1 END BREAKE kC == N_2 and kB != N_1 MATRICES PROCCECED\n",
      "kStrok: 4. All elements procceced\n",
      "\n",
      "AN: [10, 50, 30, 20, 60, 80, 20, 30, 40, 50, 100, 40, 170]\n",
      "NR: []\n",
      "NC: []\n",
      "JR: [-1, -1, -1, -1, -1]\n",
      "JC: [-1, -1, -1, -1]\n"
     ]
    }
   ],
   "source": [
    "m2 = [\n",
    "    [0,10,0,0],\n",
    "    [50, 0, 30, 0],\n",
    "    [20, 60, 0, 80],\n",
    "    [0,0,0,0],\n",
    "    [0,70,0,170]\n",
    "]\n",
    "m2_test = [\n",
    "    [0,10,0,0],\n",
    "    [0, 0, 0, 0],\n",
    "    [0, 0, 0, 80],\n",
    "    [0,0,0,0],\n",
    "    [0,170,0,30]\n",
    "]\n",
    "m2_test_0 = [\n",
    "    [0,0,0,0],\n",
    "    [0,0,0,0],\n",
    "    [0,0,0,0],\n",
    "    [10,10,10,10],\n",
    "    [0,0,0,0]\n",
    "]\n",
    "m2_test_1 = [\n",
    "    [0,0,0,0],\n",
    "    [0,0,0,0],\n",
    "    [0,0,0,0],\n",
    "    [20,30,40,50],\n",
    "    [0,0,0,0]\n",
    "]\n",
    "m2_test_2 = [\n",
    "    [0,0,0,0],\n",
    "    [0,0,0,0],\n",
    "    [0,0,0,0],\n",
    "    [20,30,40,50],\n",
    "    [0,30,40,0]\n",
    "]\n",
    "SM_test_1 = sc.SparseCRM()\n",
    "SM_test_2 = sc.SparseCRM()\n",
    "\n",
    "M1 = m2\n",
    "M2 = m2_test_2\n",
    "\n",
    "SM_test_1.pack(M1)\n",
    "SM_test_2.pack(M2)\n",
    "\n",
    "SM_test_1.print_info()\n",
    "print()\n",
    "m_c.sym_matrix_print(SM_test_1.unpack(), len(SM_test_1.JR))\n",
    "print()\n",
    "SM_test_2.print_info()\n",
    "print()\n",
    "m_c.sym_matrix_print(SM_test_2.unpack(), len(SM_test_2.JR))\n",
    "print()\n",
    "print(\"RESULT:\")\n",
    "print()\n",
    "sc.simple_sum(M1, M2)\n",
    "print(\"=\"*32)\n",
    "\n",
    "SM_test_1.addition(SM_test_2)"
   ]
  },
  {
   "cell_type": "code",
   "execution_count": null,
   "metadata": {},
   "outputs": [],
   "source": []
  },
  {
   "cell_type": "markdown",
   "metadata": {},
   "source": [
    "# seeds: 9259 3405\n",
    "# seeds: 248 5760"
   ]
  },
  {
   "cell_type": "code",
   "execution_count": 174,
   "metadata": {},
   "outputs": [
    {
     "data": {
      "text/plain": [
       "<module 'sparse_crm' from 'C:\\\\Users\\\\igors\\\\My_Code\\\\PyHomework\\\\Sparse_matrices\\\\sparse_crm.py'>"
      ]
     },
     "execution_count": 174,
     "metadata": {},
     "output_type": "execute_result"
    }
   ],
   "source": [
    "reload(sc)"
   ]
  },
  {
   "cell_type": "code",
   "execution_count": 177,
   "metadata": {},
   "outputs": [
    {
     "name": "stdout",
     "output_type": "stream",
     "text": [
      "seeds: 6456 5716\n",
      "[\n",
      "\t [0, 0, 4, 0]\n",
      "\t [0, 0, 5, 0]\n",
      "\t [0, 0, 0, 0]\n",
      "\t [7, 0, 0, 0]\n",
      "]\n",
      "AN: [4, 5, 7]\n",
      "NR: [0, 1, 2]\n",
      "NC: [1, 0, 2]\n",
      "JR: [0, 1, -1, 2]\n",
      "JC: [2, -1, 0, -1]\n",
      "[\n",
      "\t [0, 0, 0, 0]\n",
      "\t [0, -6, 0, 0]\n",
      "\t [4, 0, 0, -6]\n",
      "\t [0, 0, 0, 0]\n",
      "]\n",
      "AN: [-6, 4, -6]\n",
      "NR: [0, 2, 1]\n",
      "NC: [0, 1, 2]\n",
      "JR: [-1, 0, 1, -1]\n",
      "JC: [1, 0, -1, 2]\n",
      "RESULT\n",
      "[\n",
      "\t [0, 0, 4, 0]\n",
      "\t [0, -6, 5, 0]\n",
      "\t [4, 0, 0, -6]\n",
      "\t [7, 0, 0, 0]\n",
      "]\n",
      "AN: [4, -6, 5, 4, -6, 7]\n",
      "NR: [0, 2, 1, 4, 3, 5]\n",
      "NC: [2, 1, 0, 5, 4, 3]\n",
      "JR: [0, 1, 3, 5]\n",
      "JC: [3, 1, 0, 4]\n",
      "================================\n",
      "N_1: 3, N_2: 3\n",
      "\n",
      "I: kStrok: 0, kB: 0, kC: 0, y1: 0, y2: 1\n",
      "  BRANCH 2 --- y1 != y2\n",
      "    BRANCH 2.1 --- y2 > y1\n",
      "      BRANCH 2.1 --- I --- kB: 0, kC: 0, y1: 0, y2: 1, res_matrix: []\n",
      "      BRANCH 2.1 --- O --- kB: 1, kC: 0, y1: 0, y2: 1, res_matrix: [4]\n",
      "      BRANCH 2.1 BREAK, y1: 1 ROW ENDED\n",
      "O: kStrok: 0, kB: 1, kC: 0, y1: 1, y2: 1\n",
      "\n",
      "I: kStrok: 1, kB: 1, kC: 0, y1: 1, y2: 1\n",
      "  BRANCH 1 --- y1 == y2\n",
      "    BRANCH 1.1 --- x1 != x2\n",
      "      BRANCH 1.1 --- I --- kB: 1, kC: 0, x1: 2, x2: 1, res_matrix: [4]\n",
      "      x1 > x2 FROM C\n",
      "      BRANCH 1.1 --- 0 --- kB: 1, kC: 1, x1: 2, x2: 1, res_matrix: [4, -6]\n",
      "    BRANCH 1 BREAK kB != N_1 and kC != N_2 ROW ENDED\n",
      "O: kStrok: 1, kB: 1, kC: 1, y1: 1, y2: 2\n",
      "\n",
      "I: kStrok: 2, kB: 1, kC: 1, y1: 1, y2: 2\n",
      "  BRANCH 2 --- y1 != y2\n",
      "    BRANCH 2.1 --- y2 > y1\n",
      "      BRANCH 2.1 --- I --- kB: 1, kC: 1, y1: 1, y2: 2, res_matrix: [4, -6]\n",
      "      BRANCH 2.1 --- O --- kB: 2, kC: 1, y1: 1, y2: 2, res_matrix: [4, -6, 5]\n",
      "      BRANCH 2.1 BREAK, y1: 3 ROW ENDED\n",
      "O: kStrok: 2, kB: 2, kC: 1, y1: 3, y2: 2\n",
      "\n",
      "I: kStrok: 3, kB: 2, kC: 1, y1: 3, y2: 2\n",
      "  BRANCH 2 --- y1 != y2\n",
      "    BRANCH 2.2 --- y1 > y2\n",
      "      BRANCH 2.2 --- I ---  kC: 1, y1: 3, y2: 2, res_matrix: [4, -6, 5]\n",
      "          flag_JR TURN, res_matrix.AN coord: 3\n",
      "      BRANCH 2.2 --- O ---  kC: 2, y1: 3, y2: 2, res_matrix: [4, -6, 5, 4]\n",
      "      BRANCH 2.2 BREAK, y2: 2 ROW ENDED\n",
      "      BRANCH 2.2 --- I ---  kC: 2, y1: 3, y2: 2, res_matrix: [4, -6, 5, 4]\n",
      "      BRANCH 2.2 --- O ---  kC: 3, y1: 3, y2: 2, res_matrix: [4, -6, 5, 4, -6]\n",
      "          flag_JR TURN, res_matrix.AN coord: 5\n",
      "      BRANCH 2.2 BREAK, kB: MATRICES PROCCECED3\n",
      "O: kStrok: 3, kB: 3, kC: 3, y1: 3, y2: 2\n",
      "\n",
      "kStrok: 4. All elements procceced\n",
      "\n",
      "AN: [4, -6, 5, 4, -6, 7]\n",
      "NR: [0, 1, 2, 4, 3]\n",
      "NC: []\n",
      "JR: [3, 5]\n",
      "JC: [-1, -1, -1, -1]\n"
     ]
    }
   ],
   "source": [
    "SM_test_1 = sc.SparseCRM()\n",
    "SM_test_2 = sc.SparseCRM()\n",
    "SM_test_3 = sc.SparseCRM()\n",
    "\n",
    "seed1 = 6456 #m_c.random.randint(0, 10000)\n",
    "seed2 = 5716 #m_c.random.randint(0, 10000)\n",
    "print(\"seeds: {} {}\".format(seed1, seed2))\n",
    "\n",
    "M1 = m_c.create_matrix_with_sparse_vals(4,4,9, 0.2, rd_seed=seed1)\n",
    "SM_test_1.pack(M1)\n",
    "SM_test_1.print_info()\n",
    "M2 = m_c.create_matrix_with_sparse_vals(4,4,9, 0.2, rd_seed=seed2)\n",
    "SM_test_2.pack(M2)\n",
    "SM_test_2.print_info()\n",
    "#m_c.sym_matrix_print(M1, len(M1))\n",
    "#m_c.sym_matrix_print(M2, len(M2))\n",
    "print(\"RESULT\")\n",
    "M3 = sc.simple_sum(M1, M2)\n",
    "SM_test_3.pack(M3)\n",
    "SM_test_3.print_info()\n",
    "print(\"=\"*32)\n",
    "\n",
    "\n",
    "\n",
    "SM_test_1.addition(SM_test_2)"
   ]
  },
  {
   "cell_type": "code",
   "execution_count": null,
   "metadata": {},
   "outputs": [],
   "source": []
  },
  {
   "cell_type": "markdown",
   "metadata": {},
   "source": [
    "# Тест обхода столбца или строки"
   ]
  },
  {
   "cell_type": "code",
   "execution_count": 156,
   "metadata": {},
   "outputs": [
    {
     "data": {
      "text/plain": [
       "<module 'sparse_crm' from 'C:\\\\Users\\\\igors\\\\My_Code\\\\PyHomework\\\\Sparse_matrices\\\\sparse_crm.py'>"
      ]
     },
     "execution_count": 156,
     "metadata": {},
     "output_type": "execute_result"
    }
   ],
   "source": [
    "reload(sc)"
   ]
  },
  {
   "cell_type": "code",
   "execution_count": 157,
   "metadata": {},
   "outputs": [
    {
     "name": "stdout",
     "output_type": "stream",
     "text": [
      "seed: 3877\n",
      "[\n",
      "\t [-2, 0, 7, 0, 0]\n",
      "\t [0, 0, 7, 0, -5]\n",
      "\t [0, 0, 0, 0, 0]\n",
      "\t [0, 0, 0, 0, 0]\n",
      "\t [0, 0, 0, 0, 0]\n",
      "]\n",
      "================================\n",
      "AN: [-2, 7, 7, -5]\n",
      "NR: [1, 0, 3, 2]\n",
      "NC: [0, 2, 1, 3]\n",
      "JR: [0, 2, -1, -1, -1]\n",
      "JC: [0, -1, 1, -1, 3]\n",
      "[-2]\n",
      "[]\n",
      "[7, 7]\n",
      "[]\n",
      "[-5]\n",
      "[-2, 7]\n",
      "[7, -5]\n",
      "[]\n",
      "[]\n",
      "[]\n"
     ]
    }
   ],
   "source": [
    "SM_test_1 = sc.SparseCRM()\n",
    "\n",
    "seed1 = m_c.random.randint(0, 10000)\n",
    "print(\"seed: {}\".format(seed1))\n",
    "\n",
    "rows = 5\n",
    "cols = 5\n",
    "\n",
    "M1 = m_c.create_matrix_with_sparse_vals(rows,cols,9, 0.2, rd_seed=seed1)\n",
    "print(\"=\"*32)\n",
    "\n",
    "SM_test_1.pack(M1)\n",
    "SM_test_1.print_info()\n",
    "\n",
    "for i in range(cols):\n",
    "    print(SM_test_1._compose_col(i))\n",
    "for i in range(rows):\n",
    "    print(SM_test_1._compose_row(i))\n",
    "    \n"
   ]
  },
  {
   "cell_type": "code",
   "execution_count": null,
   "metadata": {},
   "outputs": [],
   "source": []
  },
  {
   "cell_type": "markdown",
   "metadata": {},
   "source": [
    "# Тесты с разреженным строчным форматом\n",
    "## seed 2530"
   ]
  },
  {
   "cell_type": "code",
   "execution_count": 208,
   "metadata": {},
   "outputs": [],
   "source": [
    "import sparse_crs as scr"
   ]
  },
  {
   "cell_type": "code",
   "execution_count": 194,
   "metadata": {},
   "outputs": [
    {
     "data": {
      "text/plain": [
       "<module 'sparce_crs' from 'C:\\\\Users\\\\igors\\\\My_Code\\\\PyHomework\\\\sparce_crs.py'>"
      ]
     },
     "execution_count": 194,
     "metadata": {},
     "output_type": "execute_result"
    }
   ],
   "source": [
    "reload(scr)"
   ]
  },
  {
   "cell_type": "code",
   "execution_count": 196,
   "metadata": {},
   "outputs": [
    {
     "name": "stdout",
     "output_type": "stream",
     "text": [
      "seed: 4474\n",
      "[\n",
      "\t [0, 0, 8, 0, 0]\n",
      "\t [0, 7, 0, 0, 0]\n",
      "\t [0, 0, 7, 0, 0]\n",
      "\t [0, 0, 0, 0, 9]\n",
      "\t [0, -2, 0, 0, 0]\n",
      "]\n",
      "================================\n",
      "AN: [8, 7, 7, 9, -2]\n",
      "JA: [2, 1, 2, 4, 1]\n",
      "JR: [0, 1, 2, 3, 4, 5]\n",
      "================================\n",
      "i: 0, j: 0, self.JR[i]: 0, self.JR[i+1]: 1\n",
      "i: 1, j: 1, self.JR[i]: 1, self.JR[i+1]: 2\n",
      "i: 2, j: 2, self.JR[i]: 2, self.JR[i+1]: 3\n",
      "i: 3, j: 3, self.JR[i]: 3, self.JR[i+1]: 4\n",
      "i: 4, j: 4, self.JR[i]: 4, self.JR[i+1]: 5\n",
      "[\n",
      "\t [0, 0, 8, 0, 0]\n",
      "\t [0, 7, 0, 0, 0]\n",
      "\t [0, 0, 7, 0, 0]\n",
      "\t [0, 0, 0, 0, 9]\n",
      "\t [0, -2, 0, 0, 0]\n",
      "]\n"
     ]
    },
    {
     "data": {
      "text/plain": [
       "[[0, 0, 8, 0, 0],\n",
       " [0, 7, 0, 0, 0],\n",
       " [0, 0, 7, 0, 0],\n",
       " [0, 0, 0, 0, 9],\n",
       " [0, -2, 0, 0, 0]]"
      ]
     },
     "execution_count": 196,
     "metadata": {},
     "output_type": "execute_result"
    }
   ],
   "source": [
    "SM_src_test = scr.SparceCRS()\n",
    "\n",
    "seed1 = m_c.random.randint(0, 10000)\n",
    "print(\"seed: {}\".format(seed1))\n",
    "\n",
    "rows = 5\n",
    "cols = 5\n",
    "\n",
    "M1 = m_c.create_matrix_with_sparse_vals(rows,cols,9, 0.2, rd_seed=seed1)\n",
    "print(\"=\"*32)\n",
    "\n",
    "SM_src_test.pack(M1)\n",
    "SM_src_test.print_info()\n",
    "print(\"=\"*32)\n",
    "SM_src_test.unpack(verbose=True)"
   ]
  },
  {
   "cell_type": "markdown",
   "metadata": {},
   "source": [
    "## Тест сложения"
   ]
  },
  {
   "cell_type": "code",
   "execution_count": 213,
   "metadata": {},
   "outputs": [
    {
     "data": {
      "text/plain": [
       "<module 'sparse_crs' from 'C:\\\\Users\\\\igors\\\\My_Code\\\\PyHomework\\\\sparse_crs.py'>"
      ]
     },
     "execution_count": 213,
     "metadata": {},
     "output_type": "execute_result"
    }
   ],
   "source": [
    "reload(scr)"
   ]
  },
  {
   "cell_type": "code",
   "execution_count": 214,
   "metadata": {},
   "outputs": [
    {
     "name": "stdout",
     "output_type": "stream",
     "text": [
      "seeds: 9068, 8497\n",
      "[\n",
      "\t [0, 0, 0, 0, 0]\n",
      "\t [0, 0, 0, 0, 0]\n",
      "\t [0, 0, -9, -6, 0]\n",
      "\t [0, -2, 0, 0, -9]\n",
      "\t [0, 0, 0, 0, 0]\n",
      "]\n",
      "AN: [-9, -6, -2, -9]\n",
      "JA: [2, 3, 1, 4]\n",
      "JR: [0, 0, 0, 2, 4, 4]\n",
      "cols 5\n",
      "================================\n",
      "[\n",
      "\t [0, 0, 0, 0, 0]\n",
      "\t [-2, 0, 0, 0, 0]\n",
      "\t [-5, 0, -2, 0, 0]\n",
      "\t [0, -6, 0, 0, -7]\n",
      "\t [0, 0, 0, 0, 0]\n",
      "]\n",
      "AN: [-2, -5, -2, -6, -7]\n",
      "JA: [0, 0, 2, 1, 4]\n",
      "JR: [0, 0, 1, 3, 5, 5]\n",
      "cols 5\n",
      "================================\n",
      "RESULT\n",
      "[\n",
      "\t [0, 0, 0, 0, 0]\n",
      "\t [-2, 0, 0, 0, 0]\n",
      "\t [-5, 0, -11, -6, 0]\n",
      "\t [0, -8, 0, 0, -16]\n",
      "\t [0, 0, 0, 0, 0]\n",
      "]\n",
      "AN: [-2, -5, -11, -6, -8, -16]\n",
      "JA: [0, 0, 2, 3, 1, 4]\n",
      "JR: [0, 0, 1, 4, 6, 6]\n",
      "cols 5\n",
      "================================\n",
      "[\n",
      "\t [0, 0, 0, 0, 0]\n",
      "\t [-2, 0, 0, 0, 0]\n",
      "\t [-5, 0, -11, -6, 0]\n",
      "\t [0, -8, 0, 0, -16]\n",
      "\t [0, 0, 0, 0, 0]\n",
      "]\n",
      "AN: [-2, -5, -11, -6, -8, -16]\n",
      "JA: [0, 0, 2, 3, 1, 4]\n",
      "JR: [0, 0, 1, 4, 6, 6]\n",
      "cols 5\n",
      "================================\n",
      "Tests:\n",
      "dense equality: True\n",
      "sparse equality: True True True True\n",
      "\n"
     ]
    }
   ],
   "source": [
    "SM_src_test_1 = scr.SparceCRS()\n",
    "SM_src_test_2 = scr.SparceCRS()\n",
    "SM_src_test_3 = scr.SparceCRS()\n",
    "\n",
    "seed1 = m_c.random.randint(0, 10000)\n",
    "seed2 = m_c.random.randint(0, 10000)\n",
    "print(\"seeds: {}, {}\".format(seed1, seed2))\n",
    "\n",
    "rows = 5\n",
    "cols = 5\n",
    "\n",
    "M1 = m_c.create_matrix_with_sparse_vals(rows,cols,9, 0.2, rd_seed=seed1)\n",
    "SM_src_test_1.pack(M1)\n",
    "SM_src_test_1.print_info()\n",
    "print(\"=\"*32)\n",
    "M2 = m_c.create_matrix_with_sparse_vals(rows,cols,9, 0.2, rd_seed=seed2)\n",
    "SM_src_test_2.pack(M2)\n",
    "SM_src_test_2.print_info()\n",
    "print(\"=\"*32)\n",
    "print(\"RESULT\")\n",
    "M3 = sc.simple_sum(M1, M2)\n",
    "SM_src_test_3.pack(M3)\n",
    "SM_src_test_3.print_info()\n",
    "print(\"=\"*32)\n",
    "\n",
    "res_matrix = SM_src_test_1.addition(SM_src_test_2)\n",
    "m_c.sym_matrix_print(res_matrix.unpack(), rows)\n",
    "res_matrix.print_info()\n",
    "\n",
    "print(\"=\"*32)\n",
    "print(\"Tests:\")\n",
    "print(\"dense equality:\", M3 == res_matrix.unpack())\n",
    "print(\n",
    "    \"sparse equality:\",\n",
    "    SM_src_test_3.AN == res_matrix.AN,\n",
    "    SM_src_test_3.JA == res_matrix.JA,\n",
    "    SM_src_test_3.JR == res_matrix.JR,\n",
    "    SM_src_test_3.cols == res_matrix.cols\n",
    ")\n",
    "print()"
   ]
  },
  {
   "cell_type": "markdown",
   "metadata": {},
   "source": [
    "## Тесты умножения\n",
    "## 1103 6430"
   ]
  },
  {
   "cell_type": "code",
   "execution_count": 274,
   "metadata": {},
   "outputs": [
    {
     "data": {
      "text/plain": [
       "<module 'sparse_crs' from 'C:\\\\Users\\\\igors\\\\My_Code\\\\PyHomework\\\\sparse_crs.py'>"
      ]
     },
     "execution_count": 274,
     "metadata": {},
     "output_type": "execute_result"
    }
   ],
   "source": [
    "reload(scr)"
   ]
  },
  {
   "cell_type": "code",
   "execution_count": 284,
   "metadata": {},
   "outputs": [
    {
     "name": "stdout",
     "output_type": "stream",
     "text": [
      "seeds: 8818, 7573\n",
      "[\n",
      "\t [0, 8, 0, 0]\n",
      "\t [0, -6, 0, 0]\n",
      "\t [0, 0, -2, 0]\n",
      "\t [0, 0, 0, 0]\n",
      "\t [0, 0, 0, 0]\n",
      "]\n",
      "AN: [8, -6, -2]\n",
      "JA: [1, 1, 2]\n",
      "JR: [0, 1, 2, 3, 3, 3]\n",
      "cols 4\n",
      "================================\n",
      "[\n",
      "\t [-6, 0, 0, 0, 0, 0]\n",
      "\t [0, 0, 8, 0, 0, 0]\n",
      "\t [0, 0, 0, 0, 0, 9]\n",
      "\t [0, -4, 0, -9, 0, 0]\n",
      "]\n",
      "AN: [-6, 8, 9, -4, -9]\n",
      "JA: [0, 2, 5, 1, 3]\n",
      "JR: [0, 1, 2, 3, 5]\n",
      "cols 6\n",
      "================================\n",
      "RESULT\n",
      "[\n",
      "\t [0, 0, 64, 0, 0, 0]\n",
      "\t [0, 0, -48, 0, 0, 0]\n",
      "\t [0, 0, 0, 0, 0, -18]\n",
      "\t [0, 0, 0, 0, 0, 0]\n",
      "\t [0, 0, 0, 0, 0, 0]\n",
      "]\n",
      "AN: [64, -48, -18]\n",
      "JA: [2, 2, 5]\n",
      "JR: [0, 1, 2, 3, 3, 3]\n",
      "cols 6\n",
      "================================\n",
      "[\n",
      "\t [0, 0, 64, 0, 0, 0]\n",
      "\t [0, 0, -48, 0, 0, 0]\n",
      "\t [0, 0, 0, 0, 0, -18]\n",
      "\t [0, 0, 0, 0, 0, 0]\n",
      "\t [0, 0, 0, 0, 0, 0]\n",
      "]\n",
      "AN: [64, -48, -18]\n",
      "JA: [2, 2, 5]\n",
      "JR: [0, 1, 2, 3, 3, 3]\n",
      "cols 6\n",
      "================================\n",
      "Tests:\n",
      "dense equality: True\n",
      "sparse equality: True True True True\n",
      "\n"
     ]
    }
   ],
   "source": [
    "SM_src_test_1 = scr.SparceCRS()\n",
    "SM_src_test_2 = scr.SparceCRS()\n",
    "SM_src_test_3 = scr.SparceCRS()\n",
    "\n",
    "seed1 = m_c.random.randint(0, 10000)\n",
    "seed2 = m_c.random.randint(0, 10000)\n",
    "print(\"seeds: {}, {}\".format(seed1, seed2))\n",
    "\n",
    "rows1 = 5\n",
    "cols1 = rows2 = 4\n",
    "cols2 = 6\n",
    "\n",
    "\n",
    "M1 = m_c.create_matrix_with_sparse_vals(rows1,cols1,9, 0.2, rd_seed=seed1)\n",
    "SM_src_test_1.pack(M1)\n",
    "SM_src_test_1.print_info()\n",
    "print(\"=\"*32)\n",
    "M2 = m_c.create_matrix_with_sparse_vals(rows2,cols2,9, 0.2, rd_seed=seed2)\n",
    "SM_src_test_2.pack(M2)\n",
    "SM_src_test_2.print_info()\n",
    "print(\"=\"*32)\n",
    "print(\"RESULT\")\n",
    "M3 = m_c.simple_mult(M1, M2)\n",
    "SM_src_test_3.pack(M3)\n",
    "SM_src_test_3.print_info()\n",
    "print(\"=\"*32)\n",
    "\n",
    "res_matrix = SM_src_test_1.multiplication(SM_src_test_2)\n",
    "m_c.sym_matrix_print(res_matrix.unpack(), rows)\n",
    "res_matrix.print_info()\n",
    "\n",
    "print(\"=\"*32)\n",
    "print(\"Tests:\")\n",
    "print(\"dense equality:\", M3 == res_matrix.unpack())\n",
    "print(\n",
    "    \"sparse equality:\",\n",
    "    SM_src_test_3.AN == res_matrix.AN,\n",
    "    SM_src_test_3.JA == res_matrix.JA,\n",
    "    SM_src_test_3.JR == res_matrix.JR,\n",
    "    SM_src_test_3.cols == res_matrix.cols\n",
    ")\n",
    "print()"
   ]
  },
  {
   "cell_type": "code",
   "execution_count": null,
   "metadata": {},
   "outputs": [],
   "source": []
  }
 ],
 "metadata": {
  "kernelspec": {
   "display_name": "Python 3",
   "language": "python",
   "name": "python3"
  },
  "language_info": {
   "codemirror_mode": {
    "name": "ipython",
    "version": 3
   },
   "file_extension": ".py",
   "mimetype": "text/x-python",
   "name": "python",
   "nbconvert_exporter": "python",
   "pygments_lexer": "ipython3",
   "version": "3.7.4"
  }
 },
 "nbformat": 4,
 "nbformat_minor": 2
}
