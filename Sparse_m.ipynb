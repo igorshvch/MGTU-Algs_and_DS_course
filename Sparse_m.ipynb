{
 "cells": [
  {
   "cell_type": "code",
   "execution_count": 1,
   "metadata": {},
   "outputs": [],
   "source": [
    "import matr_create as m_c"
   ]
  },
  {
   "cell_type": "code",
   "execution_count": 2,
   "metadata": {},
   "outputs": [],
   "source": [
    "from importlib import reload"
   ]
  },
  {
   "cell_type": "code",
   "execution_count": 3,
   "metadata": {},
   "outputs": [],
   "source": [
    "import sparse_crm as sc"
   ]
  },
  {
   "cell_type": "code",
   "execution_count": 10,
   "metadata": {},
   "outputs": [
    {
     "name": "stdout",
     "output_type": "stream",
     "text": [
      "[\n",
      "\t [0, 0, 0, 0, 0]\n",
      "\t [-140, 0, 0, 0, 0]\n",
      "\t [0, 0, -93, -152, 0]\n",
      "\t [0, 0, 0, 111, 0]\n",
      "]\n"
     ]
    },
    {
     "data": {
      "text/plain": [
       "[[0, 0, 0, 0, 0], [-140, 0, 0, 0, 0], [0, 0, -93, -152, 0], [0, 0, 0, 111, 0]]"
      ]
     },
     "execution_count": 10,
     "metadata": {},
     "output_type": "execute_result"
    }
   ],
   "source": [
    "m_c.create_matrix_with_sparse_vals(4,5,200, 0.2)"
   ]
  },
  {
   "cell_type": "code",
   "execution_count": 11,
   "metadata": {},
   "outputs": [
    {
     "name": "stdout",
     "output_type": "stream",
     "text": [
      "[\n",
      "\t [0, 0, 0, 0, 0]\n",
      "\t [5, 0, 0, 0, 0]\n",
      "\t [0, -7, 5, -10, 2]\n",
      "\t [3, 9, 0, 4, 0]\n",
      "]\n"
     ]
    },
    {
     "data": {
      "text/plain": [
       "[[0, 0, 0, 0, 0], [5, 0, 0, 0, 0], [0, -7, 5, -10, 2], [3, 9, 0, 4, 0]]"
      ]
     },
     "execution_count": 11,
     "metadata": {},
     "output_type": "execute_result"
    }
   ],
   "source": [
    "m_c.create_matrix_with_sparse_vals(4,5,10, 0.4)"
   ]
  },
  {
   "cell_type": "code",
   "execution_count": 12,
   "metadata": {},
   "outputs": [
    {
     "name": "stdout",
     "output_type": "stream",
     "text": [
      "[\n",
      "\t [0, 0, -7, 0]\n",
      "\t [0, 0, 0, 0]\n",
      "\t [0, -3, -6, 6]\n",
      "\t [-9, 3, 0, 0]\n",
      "]\n"
     ]
    }
   ],
   "source": [
    "m = m_c.create_matrix_with_sparse_vals(4,4,9, 0.4)"
   ]
  },
  {
   "cell_type": "code",
   "execution_count": 13,
   "metadata": {},
   "outputs": [],
   "source": [
    "SM = sc.SparseCRM()"
   ]
  },
  {
   "cell_type": "code",
   "execution_count": 14,
   "metadata": {},
   "outputs": [],
   "source": [
    "SM.pack(m)"
   ]
  },
  {
   "cell_type": "code",
   "execution_count": 15,
   "metadata": {},
   "outputs": [
    {
     "name": "stdout",
     "output_type": "stream",
     "text": [
      "AN: [-7, -3, -6, 6, -9, 3]\n",
      "NR: [0, 2, 3, 1, 5, 4]\n",
      "NC: [2, 5, 0, 3, 4, 1]\n",
      "JR: [0, -1, 1, 4]\n",
      "JC: [4, 1, 0, 3]\n",
      "kStrok 4\n",
      "kStolb 4\n"
     ]
    }
   ],
   "source": [
    "SM.print_info()"
   ]
  },
  {
   "cell_type": "code",
   "execution_count": 16,
   "metadata": {},
   "outputs": [
    {
     "name": "stdout",
     "output_type": "stream",
     "text": [
      "AN: [10, 50, 30, 20, 60, 80, 70, 170]\n",
      "NR: [0, 2, 1, 4, 5, 3, 7, 6]\n",
      "NC: [4, 3, 2, 1, 6, 7, 0, 5]\n",
      "JR: [0, 1, 3, -1, 6]\n",
      "JC: [1, 0, 2, 5]\n",
      "kStrok 5\n",
      "kStolb 4\n"
     ]
    }
   ],
   "source": [
    "m2 = [\n",
    "    [0,10,0,0],\n",
    "    [50, 0, 30, 0],\n",
    "    [20, 60, 0, 80],\n",
    "    [0,0,0,0],\n",
    "    [0,70,0,170]\n",
    "]\n",
    "SM2 = sc.SparseCRM()\n",
    "SM2.pack(m2)\n",
    "SM2.print_info()"
   ]
  },
  {
   "cell_type": "code",
   "execution_count": 171,
   "metadata": {},
   "outputs": [
    {
     "name": "stdout",
     "output_type": "stream",
     "text": [
      "[\n",
      "\t [0, 10, 0, 0]\n",
      "\t [50, 0, 30, 0]\n",
      "\t [20, 60, 0, 80]\n",
      "\t [0, 0, 0, 0]\n",
      "\t [0, 70, 0, 170]\n",
      "]\n"
     ]
    },
    {
     "data": {
      "text/plain": [
       "[[0, 10, 0, 0], [50, 0, 30, 0], [20, 60, 0, 80], [0, 0, 0, 0], [0, 70, 0, 170]]"
      ]
     },
     "execution_count": 171,
     "metadata": {},
     "output_type": "execute_result"
    }
   ],
   "source": [
    "SM2.unpack(verbose=True)"
   ]
  },
  {
   "cell_type": "code",
   "execution_count": 119,
   "metadata": {},
   "outputs": [
    {
     "name": "stdout",
     "output_type": "stream",
     "text": [
      "[\n",
      "\t [0, 0, 0]\n",
      "\t [0, 0, -2]\n",
      "\t [0, 0, 0]\n",
      "]\n",
      "AN: [-2]\n",
      "NR: [0]\n",
      "NC: [0]\n",
      "JR: [-1, 0, -1]\n",
      "JC: [-1, -1, 0]\n",
      "[\n",
      "\t [0, 0, 0]\n",
      "\t [0, 0, -2]\n",
      "\t [0, 0, 0]\n",
      "]\n"
     ]
    },
    {
     "data": {
      "text/plain": [
       "True"
      ]
     },
     "execution_count": 119,
     "metadata": {},
     "output_type": "execute_result"
    }
   ],
   "source": [
    "reload(sc)\n",
    "m3 = m_c.create_matrix_with_sparse_vals(3,3,9, 0.1, rd_seed=34573626543)\n",
    "SM3 = sc.SparseCRM()\n",
    "SM3.pack(m3)\n",
    "SM3.print_info()\n",
    "m3 == SM3.unpack(verbose=True)"
   ]
  },
  {
   "cell_type": "code",
   "execution_count": 33,
   "metadata": {},
   "outputs": [
    {
     "data": {
      "text/plain": [
       "<module 'sparse_crm' from 'C:\\\\Users\\\\igors\\\\My_Code\\\\PyHomework\\\\Sparse_matrices\\\\sparse_crm.py'>"
      ]
     },
     "execution_count": 33,
     "metadata": {},
     "output_type": "execute_result"
    }
   ],
   "source": [
    "reload(sc)"
   ]
  },
  {
   "cell_type": "code",
   "execution_count": 37,
   "metadata": {},
   "outputs": [
    {
     "name": "stdout",
     "output_type": "stream",
     "text": [
      "AN: [10, 50, 30, 20, 60, 80, 70, 170]\n",
      "NR: [0, 2, 1, 4, 5, 3, 7, 6]\n",
      "NC: [4, 3, 2, 1, 6, 7, 0, 5]\n",
      "JR: [0, 1, 3, -1, 6]\n",
      "JC: [1, 0, 2, 5]\n"
     ]
    }
   ],
   "source": [
    "m2 = [\n",
    "    [0,10,0,0],\n",
    "    [50, 0, 30, 0],\n",
    "    [20, 60, 0, 80],\n",
    "    [0,0,0,0],\n",
    "    [0,70,0,170]\n",
    "]\n",
    "SM2 = sc.SparseCRM()\n",
    "SM2.pack(m2)\n",
    "SM2.print_info()"
   ]
  },
  {
   "cell_type": "code",
   "execution_count": 38,
   "metadata": {},
   "outputs": [
    {
     "name": "stdout",
     "output_type": "stream",
     "text": [
      "[\n",
      "\t [0, 10, 0, 0]\n",
      "\t [50, 0, 30, 0]\n",
      "\t [20, 60, 0, 80]\n",
      "\t [0, 0, 0, 0]\n",
      "\t [0, 70, 0, 170]\n",
      "]\n"
     ]
    },
    {
     "data": {
      "text/plain": [
       "[[0, 10, 0, 0], [50, 0, 30, 0], [20, 60, 0, 80], [0, 0, 0, 0], [0, 70, 0, 170]]"
      ]
     },
     "execution_count": 38,
     "metadata": {},
     "output_type": "execute_result"
    }
   ],
   "source": [
    "SM2.unpack(verbose=True)"
   ]
  },
  {
   "cell_type": "code",
   "execution_count": 42,
   "metadata": {},
   "outputs": [
    {
     "data": {
      "text/plain": [
       "True"
      ]
     },
     "execution_count": 42,
     "metadata": {},
     "output_type": "execute_result"
    }
   ],
   "source": [
    "SM2.unpack() == m2"
   ]
  },
  {
   "cell_type": "markdown",
   "metadata": {},
   "source": [
    "# Тесты со сложением"
   ]
  },
  {
   "cell_type": "code",
   "execution_count": 50,
   "metadata": {
    "scrolled": true
   },
   "outputs": [
    {
     "data": {
      "text/plain": [
       "<module 'sparse_crm' from 'C:\\\\Users\\\\igors\\\\My_Code\\\\PyHomework\\\\Sparse_matrices\\\\sparse_crm.py'>"
      ]
     },
     "execution_count": 50,
     "metadata": {},
     "output_type": "execute_result"
    }
   ],
   "source": [
    "reload(sc)"
   ]
  },
  {
   "cell_type": "code",
   "execution_count": 51,
   "metadata": {
    "scrolled": false
   },
   "outputs": [
    {
     "name": "stdout",
     "output_type": "stream",
     "text": [
      "AN: [10, 50, 30, 20, 60, 80, 70, 170]\n",
      "NR: [0, 2, 1, 4, 5, 3, 7, 6]\n",
      "NC: [4, 3, 2, 1, 6, 7, 0, 5]\n",
      "JR: [0, 1, 3, -1, 6]\n",
      "JC: [1, 0, 2, 5]\n",
      "\n",
      "[\n",
      "\t [0, 10, 0, 0]\n",
      "\t [50, 0, 30, 0]\n",
      "\t [20, 60, 0, 80]\n",
      "\t [0, 0, 0, 0]\n",
      "\t [0, 70, 0, 170]\n",
      "]\n",
      "\n",
      "AN: [10, 10, 10, 10]\n",
      "NR: [1, 2, 3, 0]\n",
      "NC: [0, 1, 2, 3]\n",
      "JR: [-1, -1, -1, 0, -1]\n",
      "JC: [0, 1, 2, 3]\n",
      "\n",
      "[\n",
      "\t [0, 0, 0, 0]\n",
      "\t [0, 0, 0, 0]\n",
      "\t [0, 0, 0, 0]\n",
      "\t [10, 10, 10, 10]\n",
      "\t [0, 0, 0, 0]\n",
      "]\n",
      "================================\n",
      "N_1: 8, N_2: 4\n",
      "kStrok: 0, y1: 0, y2: 3\n",
      "\tBRANCH 2 --- y1 != y2\n",
      "\t\tBRANCH 2.1 --- y2 > y1\n",
      "\t\t\tBRANCH 2.1 --- I --- kB: 0, y1: 0, y2: 3, res_matrix: []\n",
      "\t\t\tBRANCH 2.1 --- O --- kB: 1, y1: 1, y2: 3, res_matrix: [10]\n",
      "\t\t\tBRANCH 2.1 --- I --- kB: 1, y1: 1, y2: 3, res_matrix: [10]\n",
      "\t\t\tBRANCH 2.1 --- O --- kB: 2, y1: 1, y2: 3, res_matrix: [10, 50]\n",
      "\t\t\tBRANCH 2.1 --- I --- kB: 2, y1: 1, y2: 3, res_matrix: [10, 50]\n",
      "\t\t\tBRANCH 2.1 --- O --- kB: 3, y1: 2, y2: 3, res_matrix: [10, 50, 30]\n",
      "\t\t\tBRANCH 2.1 --- I --- kB: 3, y1: 2, y2: 3, res_matrix: [10, 50, 30]\n",
      "\t\t\tBRANCH 2.1 --- O --- kB: 4, y1: 2, y2: 3, res_matrix: [10, 50, 30, 20]\n",
      "\t\t\tBRANCH 2.1 --- I --- kB: 4, y1: 2, y2: 3, res_matrix: [10, 50, 30, 20]\n",
      "\t\t\tBRANCH 2.1 --- O --- kB: 5, y1: 2, y2: 3, res_matrix: [10, 50, 30, 20, 60]\n",
      "\t\t\tBRANCH 2.1 --- I --- kB: 5, y1: 2, y2: 3, res_matrix: [10, 50, 30, 20, 60]\n",
      "\t\t\tBRANCH 2.1 --- O --- kB: 6, y1: 4, y2: 3, res_matrix: [10, 50, 30, 20, 60, 80]\n",
      "\n",
      "kStrok: 1, y1: 4, y2: 3\n",
      "\tBRANCH 2 --- y1 != y2\n",
      "\t\tBRANCH 2.2 --- y1 > y2\n",
      "\t\t\tBRANCH 2.2 --- I ---  kC: 0, y1: 4, y2: 3, res_matrix: [10, 50, 30, 20, 60, 80]\n",
      "\t\t\tBRANCH 2.2 --- O ---  kC: 1, y1: 4, y2: 3, res_matrix: [10, 50, 30, 20, 60, 80, 10]\n",
      "\t\t\tBRANCH 2.2 --- I ---  kC: 1, y1: 4, y2: 3, res_matrix: [10, 50, 30, 20, 60, 80, 10]\n",
      "\t\t\tBRANCH 2.2 --- O ---  kC: 2, y1: 4, y2: 3, res_matrix: [10, 50, 30, 20, 60, 80, 10, 10]\n",
      "\t\t\tBRANCH 2.2 --- I ---  kC: 2, y1: 4, y2: 3, res_matrix: [10, 50, 30, 20, 60, 80, 10, 10]\n",
      "\t\t\tBRANCH 2.2 --- O ---  kC: 3, y1: 4, y2: 3, res_matrix: [10, 50, 30, 20, 60, 80, 10, 10, 10]\n",
      "\t\t\tBRANCH 2.2 --- I ---  kC: 3, y1: 4, y2: 3, res_matrix: [10, 50, 30, 20, 60, 80, 10, 10, 10]\n",
      "\n",
      "kStrok: 2, y1: 4, y2: 3\n",
      "\tBRANCH 2 --- y1 != y2\n",
      "\t\tBRANCH 2.2 --- y1 > y2\n",
      "\t\t\tBRANCH 2.2 --- I ---  kC: 3, y1: 4, y2: 3, res_matrix: [10, 50, 30, 20, 60, 80, 10, 10, 10, 10]\n",
      "\n",
      "kStrok: 3, y1: 4, y2: 3\n",
      "\tBRANCH 2 --- y1 != y2\n",
      "\t\tBRANCH 2.2 --- y1 > y2\n",
      "\t\t\tBRANCH 2.2 --- I ---  kC: 3, y1: 4, y2: 3, res_matrix: [10, 50, 30, 20, 60, 80, 10, 10, 10, 10, 10]\n",
      "\n",
      "kStrok: 4, y1: 4, y2: 3\n",
      "\tBRANCH 2 --- y1 != y2\n",
      "\t\tBRANCH 2.2 --- y1 > y2\n",
      "\t\t\tBRANCH 2.2 --- I ---  kC: 3, y1: 4, y2: 3, res_matrix: [10, 50, 30, 20, 60, 80, 10, 10, 10, 10, 10, 10]\n",
      "\n",
      "\n",
      "AN: [10, 50, 30, 20, 60, 80, 10, 10, 10, 10, 10, 10, 10]\n",
      "NR: []\n",
      "NC: []\n",
      "JR: [-1, -1, -1, -1, -1]\n",
      "JC: [-1, -1, -1, -1]\n"
     ]
    }
   ],
   "source": [
    "m2 = [\n",
    "    [0,10,0,0],\n",
    "    [50, 0, 30, 0],\n",
    "    [20, 60, 0, 80],\n",
    "    [0,0,0,0],\n",
    "    [0,70,0,170]\n",
    "]\n",
    "m2_test = [\n",
    "    [0,10,0,0],\n",
    "    [0, 0, 0, 0],\n",
    "    [0, 0, 0, 80],\n",
    "    [0,0,0,0],\n",
    "    [0,170,0,30]\n",
    "]\n",
    "m2_test_0 = [\n",
    "    [0,0,0,0],\n",
    "    [0,0,0,0],\n",
    "    [0,0,0,0],\n",
    "    [10,10,10,10],\n",
    "    [0,0,0,0]\n",
    "]\n",
    "SM_test_1 = sc.SparseCRM()\n",
    "SM_test_2 = sc.SparseCRM()\n",
    "\n",
    "SM_test_1.pack(m2)\n",
    "SM_test_2.pack(m2_test_0)\n",
    "\n",
    "SM_test_1.print_info()\n",
    "print()\n",
    "m_c.sym_matrix_print(SM_test_1.unpack(), len(SM_test_1.JR))\n",
    "print()\n",
    "SM_test_2.print_info()\n",
    "print()\n",
    "m_c.sym_matrix_print(SM_test_2.unpack(), len(SM_test_2.JR))\n",
    "print(\"=\"*32)\n",
    "\n",
    "SM_test_1.addition(SM_test_2)"
   ]
  },
  {
   "cell_type": "code",
   "execution_count": null,
   "metadata": {},
   "outputs": [],
   "source": []
  },
  {
   "cell_type": "code",
   "execution_count": null,
   "metadata": {},
   "outputs": [],
   "source": []
  }
 ],
 "metadata": {
  "kernelspec": {
   "display_name": "Python 3",
   "language": "python",
   "name": "python3"
  },
  "language_info": {
   "codemirror_mode": {
    "name": "ipython",
    "version": 3
   },
   "file_extension": ".py",
   "mimetype": "text/x-python",
   "name": "python",
   "nbconvert_exporter": "python",
   "pygments_lexer": "ipython3",
   "version": "3.7.4"
  }
 },
 "nbformat": 4,
 "nbformat_minor": 2
}
