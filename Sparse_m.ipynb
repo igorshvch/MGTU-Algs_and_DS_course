{
 "cells": [
  {
   "cell_type": "code",
   "execution_count": 7,
   "metadata": {},
   "outputs": [],
   "source": [
    "import matr_create as m_c"
   ]
  },
  {
   "cell_type": "code",
   "execution_count": 8,
   "metadata": {},
   "outputs": [],
   "source": [
    "from importlib import reload"
   ]
  },
  {
   "cell_type": "code",
   "execution_count": 9,
   "metadata": {},
   "outputs": [],
   "source": [
    "import sparse_crm as sc"
   ]
  },
  {
   "cell_type": "code",
   "execution_count": 10,
   "metadata": {},
   "outputs": [
    {
     "name": "stdout",
     "output_type": "stream",
     "text": [
      "[\n",
      "\t [0, 0, 0, 0, 0]\n",
      "\t [-140, 0, 0, 0, 0]\n",
      "\t [0, 0, -93, -152, 0]\n",
      "\t [0, 0, 0, 111, 0]\n",
      "]\n"
     ]
    },
    {
     "data": {
      "text/plain": [
       "[[0, 0, 0, 0, 0], [-140, 0, 0, 0, 0], [0, 0, -93, -152, 0], [0, 0, 0, 111, 0]]"
      ]
     },
     "execution_count": 10,
     "metadata": {},
     "output_type": "execute_result"
    }
   ],
   "source": [
    "m_c.create_matrix_with_sparse_vals(4,5,200, 0.2)"
   ]
  },
  {
   "cell_type": "code",
   "execution_count": 11,
   "metadata": {},
   "outputs": [
    {
     "name": "stdout",
     "output_type": "stream",
     "text": [
      "[\n",
      "\t [0, 0, 0, 0, 0]\n",
      "\t [5, 0, 0, 0, 0]\n",
      "\t [0, -7, 5, -10, 2]\n",
      "\t [3, 9, 0, 4, 0]\n",
      "]\n"
     ]
    },
    {
     "data": {
      "text/plain": [
       "[[0, 0, 0, 0, 0], [5, 0, 0, 0, 0], [0, -7, 5, -10, 2], [3, 9, 0, 4, 0]]"
      ]
     },
     "execution_count": 11,
     "metadata": {},
     "output_type": "execute_result"
    }
   ],
   "source": [
    "m_c.create_matrix_with_sparse_vals(4,5,10, 0.4)"
   ]
  },
  {
   "cell_type": "code",
   "execution_count": 12,
   "metadata": {},
   "outputs": [
    {
     "name": "stdout",
     "output_type": "stream",
     "text": [
      "[\n",
      "\t [0, 0, -7, 0]\n",
      "\t [0, 0, 0, 0]\n",
      "\t [0, -3, -6, 6]\n",
      "\t [-9, 3, 0, 0]\n",
      "]\n"
     ]
    }
   ],
   "source": [
    "m = m_c.create_matrix_with_sparse_vals(4,4,9, 0.4)"
   ]
  },
  {
   "cell_type": "code",
   "execution_count": 13,
   "metadata": {},
   "outputs": [],
   "source": [
    "SM = sc.SparseCRM()"
   ]
  },
  {
   "cell_type": "code",
   "execution_count": 14,
   "metadata": {},
   "outputs": [],
   "source": [
    "SM.pack(m)"
   ]
  },
  {
   "cell_type": "code",
   "execution_count": 15,
   "metadata": {},
   "outputs": [
    {
     "name": "stdout",
     "output_type": "stream",
     "text": [
      "AN: [-7, -3, -6, 6, -9, 3]\n",
      "NR: [0, 2, 3, 1, 5, 4]\n",
      "NC: [2, 5, 0, 3, 4, 1]\n",
      "JR: [0, -1, 1, 4]\n",
      "JC: [4, 1, 0, 3]\n",
      "kStrok 4\n",
      "kStolb 4\n"
     ]
    }
   ],
   "source": [
    "SM.print_info()"
   ]
  },
  {
   "cell_type": "code",
   "execution_count": 16,
   "metadata": {},
   "outputs": [
    {
     "name": "stdout",
     "output_type": "stream",
     "text": [
      "AN: [10, 50, 30, 20, 60, 80, 70, 170]\n",
      "NR: [0, 2, 1, 4, 5, 3, 7, 6]\n",
      "NC: [4, 3, 2, 1, 6, 7, 0, 5]\n",
      "JR: [0, 1, 3, -1, 6]\n",
      "JC: [1, 0, 2, 5]\n",
      "kStrok 5\n",
      "kStolb 4\n"
     ]
    }
   ],
   "source": [
    "m2 = [\n",
    "    [0,10,0,0],\n",
    "    [50, 0, 30, 0],\n",
    "    [20, 60, 0, 80],\n",
    "    [0,0,0,0],\n",
    "    [0,70,0,170]\n",
    "]\n",
    "SM2 = sc.SparseCRM()\n",
    "SM2.pack(m2)\n",
    "SM2.print_info()"
   ]
  },
  {
   "cell_type": "code",
   "execution_count": 171,
   "metadata": {},
   "outputs": [
    {
     "name": "stdout",
     "output_type": "stream",
     "text": [
      "[\n",
      "\t [0, 10, 0, 0]\n",
      "\t [50, 0, 30, 0]\n",
      "\t [20, 60, 0, 80]\n",
      "\t [0, 0, 0, 0]\n",
      "\t [0, 70, 0, 170]\n",
      "]\n"
     ]
    },
    {
     "data": {
      "text/plain": [
       "[[0, 10, 0, 0], [50, 0, 30, 0], [20, 60, 0, 80], [0, 0, 0, 0], [0, 70, 0, 170]]"
      ]
     },
     "execution_count": 171,
     "metadata": {},
     "output_type": "execute_result"
    }
   ],
   "source": [
    "SM2.unpack(verbose=True)"
   ]
  },
  {
   "cell_type": "code",
   "execution_count": 119,
   "metadata": {},
   "outputs": [
    {
     "name": "stdout",
     "output_type": "stream",
     "text": [
      "[\n",
      "\t [0, 0, 0]\n",
      "\t [0, 0, -2]\n",
      "\t [0, 0, 0]\n",
      "]\n",
      "AN: [-2]\n",
      "NR: [0]\n",
      "NC: [0]\n",
      "JR: [-1, 0, -1]\n",
      "JC: [-1, -1, 0]\n",
      "[\n",
      "\t [0, 0, 0]\n",
      "\t [0, 0, -2]\n",
      "\t [0, 0, 0]\n",
      "]\n"
     ]
    },
    {
     "data": {
      "text/plain": [
       "True"
      ]
     },
     "execution_count": 119,
     "metadata": {},
     "output_type": "execute_result"
    }
   ],
   "source": [
    "reload(sc)\n",
    "m3 = m_c.create_matrix_with_sparse_vals(3,3,9, 0.1, rd_seed=34573626543)\n",
    "SM3 = sc.SparseCRM()\n",
    "SM3.pack(m3)\n",
    "SM3.print_info()\n",
    "m3 == SM3.unpack(verbose=True)"
   ]
  },
  {
   "cell_type": "code",
   "execution_count": 33,
   "metadata": {},
   "outputs": [
    {
     "data": {
      "text/plain": [
       "<module 'sparse_crm' from 'C:\\\\Users\\\\igors\\\\My_Code\\\\PyHomework\\\\Sparse_matrices\\\\sparse_crm.py'>"
      ]
     },
     "execution_count": 33,
     "metadata": {},
     "output_type": "execute_result"
    }
   ],
   "source": [
    "reload(sc)"
   ]
  },
  {
   "cell_type": "code",
   "execution_count": 37,
   "metadata": {},
   "outputs": [
    {
     "name": "stdout",
     "output_type": "stream",
     "text": [
      "AN: [10, 50, 30, 20, 60, 80, 70, 170]\n",
      "NR: [0, 2, 1, 4, 5, 3, 7, 6]\n",
      "NC: [4, 3, 2, 1, 6, 7, 0, 5]\n",
      "JR: [0, 1, 3, -1, 6]\n",
      "JC: [1, 0, 2, 5]\n"
     ]
    }
   ],
   "source": [
    "m2 = [\n",
    "    [0,10,0,0],\n",
    "    [50, 0, 30, 0],\n",
    "    [20, 60, 0, 80],\n",
    "    [0,0,0,0],\n",
    "    [0,70,0,170]\n",
    "]\n",
    "SM2 = sc.SparseCRM()\n",
    "SM2.pack(m2)\n",
    "SM2.print_info()"
   ]
  },
  {
   "cell_type": "code",
   "execution_count": 38,
   "metadata": {},
   "outputs": [
    {
     "name": "stdout",
     "output_type": "stream",
     "text": [
      "[\n",
      "\t [0, 10, 0, 0]\n",
      "\t [50, 0, 30, 0]\n",
      "\t [20, 60, 0, 80]\n",
      "\t [0, 0, 0, 0]\n",
      "\t [0, 70, 0, 170]\n",
      "]\n"
     ]
    },
    {
     "data": {
      "text/plain": [
       "[[0, 10, 0, 0], [50, 0, 30, 0], [20, 60, 0, 80], [0, 0, 0, 0], [0, 70, 0, 170]]"
      ]
     },
     "execution_count": 38,
     "metadata": {},
     "output_type": "execute_result"
    }
   ],
   "source": [
    "SM2.unpack(verbose=True)"
   ]
  },
  {
   "cell_type": "code",
   "execution_count": 42,
   "metadata": {},
   "outputs": [
    {
     "data": {
      "text/plain": [
       "True"
      ]
     },
     "execution_count": 42,
     "metadata": {},
     "output_type": "execute_result"
    }
   ],
   "source": [
    "SM2.unpack() == m2"
   ]
  },
  {
   "cell_type": "markdown",
   "metadata": {},
   "source": [
    "# Тесты со сложением"
   ]
  },
  {
   "cell_type": "code",
   "execution_count": 175,
   "metadata": {},
   "outputs": [
    {
     "data": {
      "text/plain": [
       "<module 'sparse_crm' from 'C:\\\\Users\\\\igors\\\\My_Code\\\\PyHomework\\\\Sparse_matrices\\\\sparse_crm.py'>"
      ]
     },
     "execution_count": 175,
     "metadata": {},
     "output_type": "execute_result"
    }
   ],
   "source": [
    "reload(sc)"
   ]
  },
  {
   "cell_type": "code",
   "execution_count": 177,
   "metadata": {},
   "outputs": [
    {
     "name": "stdout",
     "output_type": "stream",
     "text": [
      "AN: [10, 50, 30, 20, 60, 80, 70, 170]\n",
      "NR: [0, 2, 1, 4, 5, 3, 7, 6]\n",
      "NC: [4, 3, 2, 1, 6, 7, 0, 5]\n",
      "JR: [0, 1, 3, -1, 6]\n",
      "JC: [1, 0, 2, 5]\n",
      "\n",
      "[\n",
      "\t [0, 10, 0, 0]\n",
      "\t [50, 0, 30, 0]\n",
      "\t [20, 60, 0, 80]\n",
      "\t [0, 0, 0, 0]\n",
      "\t [0, 70, 0, 170]\n",
      "]\n",
      "\n",
      "AN: [10, 10, 30, 40]\n",
      "NR: [0, 1, 2, 3]\n",
      "NC: [0, 1, 2, 3]\n",
      "JR: [0, 1, 2, 3, -1]\n",
      "JC: [0, 1, 2, 3]\n",
      "\n",
      "[\n",
      "\t [10, 0, 0, 0]\n",
      "\t [0, 10, 0, 0]\n",
      "\t [0, 0, 30, 0]\n",
      "\t [0, 0, 0, 40]\n",
      "\t [0, 0, 0, 0]\n",
      "]\n",
      "================================\n",
      "NEW ROW\n",
      "x1: 1\n",
      "x2: 0\n",
      "kB: 0\n",
      "kC: 1\n",
      "res_matrix.AN: [10]\n",
      "NEW ROW\n",
      "x1: 1\n",
      "x2: 1\n",
      "kB: 1\n",
      "kC: 2\n",
      "res_matrix.AN: [10, 20]\n",
      "NEW ROW\n",
      "x1: 0\n",
      "x2: 2\n",
      "kB: 2\n",
      "kC: 2\n",
      "res_matrix.AN: [10, 20, 50]\n",
      "x1: 2\n",
      "x2: 2\n",
      "kB: 3\n",
      "kC: 3\n",
      "res_matrix.AN: [10, 20, 50, 60]\n",
      "NEW ROW\n",
      "x1: 0\n",
      "x2: 3\n",
      "kB: 4\n",
      "kC: 3\n",
      "res_matrix.AN: [10, 20, 50, 60, 20]\n",
      "x1: 1\n",
      "x2: 3\n",
      "kB: 5\n",
      "kC: 3\n",
      "res_matrix.AN: [10, 20, 50, 60, 20, 60]\n",
      "x1: 3\n",
      "x2: 3\n",
      "kB: 6\n",
      "kC: 4\n",
      "res_matrix.AN: [10, 20, 50, 60, 20, 60, 120]\n",
      "NEW ROW\n",
      "\n",
      "AN: [10, 20, 50, 60, 20, 60, 120]\n",
      "NR: []\n",
      "NC: []\n",
      "JR: [-1, -1, -1, -1, -1]\n",
      "JC: [-1, -1, -1, -1]\n"
     ]
    }
   ],
   "source": [
    "m2 = [\n",
    "    [0,10,0,0],\n",
    "    [50, 0, 30, 0],\n",
    "    [20, 60, 0, 80],\n",
    "    [0,0,0,0],\n",
    "    [0,70,0,170]\n",
    "]\n",
    "m2_test = [\n",
    "    [0,10,0,0],\n",
    "    [0, 0, 0, 0],\n",
    "    [0, 0, 0, 80],\n",
    "    [0,0,0,0],\n",
    "    [0,170,0,30]\n",
    "]\n",
    "m2_test_0 = [\n",
    "    [10,0,0,0],\n",
    "    [0,10,0,0],\n",
    "    [0,0,30,0],\n",
    "    [0,0,0,40],\n",
    "    [0,0,0,0]\n",
    "]\n",
    "SM_test_1 = sc.SparseCRM()\n",
    "SM_test_2 = sc.SparseCRM()\n",
    "\n",
    "SM_test_1.pack(m2)\n",
    "SM_test_2.pack(m2_test_0)\n",
    "\n",
    "SM_test_1.print_info()\n",
    "print()\n",
    "m_c.sym_matrix_print(SM_test_1.unpack(), len(SM_test_1.JR))\n",
    "print()\n",
    "SM_test_2.print_info()\n",
    "print()\n",
    "m_c.sym_matrix_print(SM_test_2.unpack(), len(SM_test_2.JR))\n",
    "print(\"=\"*32)\n",
    "\n",
    "SM_test_1.addition(SM_test_2)"
   ]
  },
  {
   "cell_type": "code",
   "execution_count": null,
   "metadata": {},
   "outputs": [],
   "source": []
  },
  {
   "cell_type": "code",
   "execution_count": null,
   "metadata": {},
   "outputs": [],
   "source": []
  }
 ],
 "metadata": {
  "kernelspec": {
   "display_name": "Python 3",
   "language": "python",
   "name": "python3"
  },
  "language_info": {
   "codemirror_mode": {
    "name": "ipython",
    "version": 3
   },
   "file_extension": ".py",
   "mimetype": "text/x-python",
   "name": "python",
   "nbconvert_exporter": "python",
   "pygments_lexer": "ipython3",
   "version": "3.7.4"
  }
 },
 "nbformat": 4,
 "nbformat_minor": 2
}
